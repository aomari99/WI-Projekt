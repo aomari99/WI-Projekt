{
 "cells": [
  {
   "cell_type": "code",
   "execution_count": 12,
   "metadata": {},
   "outputs": [],
   "source": [
    "import pandas as pd \n",
    "import os \n",
    "import matplotlib.pyplot as plt\n",
    "import numpy as np\n",
    "import glob\n",
    "import csv"
   ]
  },
  {
   "cell_type": "code",
   "execution_count": 151,
   "metadata": {},
   "outputs": [
    {
     "name": "stdout",
     "output_type": "stream",
     "text": [
      "                            start          station1 bikeid\n",
      "0             2015-09-21 14:53:16         City Hall  24722\n",
      "1             2015-09-21 14:55:59    Exchange Place  24388\n",
      "2             2015-09-21 14:56:14    Exchange Place  24442\n",
      "3             2015-09-21 14:58:35     Hamilton Park  24678\n",
      "4             2015-09-21 14:59:55     Hamilton Park  24574\n",
      "...                           ...               ...    ...\n",
      "1658062  2020-10-31 23:32:22.8650  Heights Elevator  17231\n",
      "1658063  2020-10-31 23:33:22.7310         City Hall  46532\n",
      "1658064  2020-10-31 23:37:01.7010  Monmouth and 6th  42230\n",
      "1658065  2020-10-31 23:37:46.1430  Monmouth and 6th  45341\n",
      "1658066  2020-10-31 23:40:06.3530           York St  45647\n",
      "\n",
      "[1658067 rows x 3 columns]\n"
     ]
    }
   ],
   "source": [
    "df = pd.read_csv(r'D:/adamo/Documents/DataminingFiles/DataminingFiles/JC/JC-20161-citibike-tripdata.csv', quoting=csv.QUOTE_NONE,  sep=',', error_bad_lines=False)\n",
    "\n",
    "import pandas as pd\n",
    "import glob\n",
    "\n",
    "path = r'D:/adamo/Documents/DataminingFiles/DataminingFiles/JC/' # use your path\n",
    "all_files = glob.glob(path + \"/JC-20*.csv\")\n",
    "headers = {0:'triptime',1:'start',2:'end',3:'stationid',4:'station1',5:'lat1',6:'long1',7:'endid',8:'endname',9:'lan2',10:'long2',11:'bikeid',12:'usertype',13:'birthyear',14:'gender'}\n",
    "li = []\n",
    "\n",
    "for filename in all_files:\n",
    "    df = pd.read_csv(filename,  header=None  ,   index_col=None,\n",
    "    encoding=None)\n",
    "    df = df.iloc[1:]\n",
    "    df = df.rename(columns=headers)\n",
    "    li.append(df)\n",
    "    \n",
    "\n",
    "frame = pd.concat(li, axis=0, ignore_index=True)\n",
    "\n",
    "data = pd.DataFrame(frame,columns=['start','station1','bikeid'])\n",
    "print(data)"
   ]
  },
  {
   "cell_type": "code",
   "execution_count": 152,
   "metadata": {},
   "outputs": [
    {
     "name": "stdout",
     "output_type": "stream",
     "text": [
      "                           station1\n",
      "0                         City Hall\n",
      "1                    Exchange Place\n",
      "3                     Hamilton Park\n",
      "5                           Sip Ave\n",
      "12                  Christ Hospital\n",
      "...                             ...\n",
      "663757                   Bergen Ave\n",
      "663806                     Grand St\n",
      "781528               Jackson Square\n",
      "1079005  Hoboken Ave at Monmouth St\n",
      "1134359  Columbus Dr at Exchange Pl\n",
      "\n",
      "[63 rows x 1 columns]\n"
     ]
    }
   ],
   "source": [
    "# list of states \n",
    "stationnamesframe = data[\"station1\"].drop_duplicates().dropna()\n",
    "stationnames =  pd.DataFrame(stationnamesframe , columns=['station1'])\n",
    "print(stationnames) # 63 stations in JC"
   ]
  },
  {
   "cell_type": "code",
   "execution_count": 154,
   "metadata": {},
   "outputs": [
    {
     "name": "stdout",
     "output_type": "stream",
     "text": [
      "(30086, 15)\n",
      "(178746, 2)\n",
      "(1658067, 3)\n"
     ]
    }
   ],
   "source": [
    "filter1 = data[\"station1\"]==\"Grove St PATH\"\n",
    "grovefilter = pd.DataFrame(data.where(filter1),columns=['start' ,'bikeid']).dropna()\n",
    "print(df.shape)\n",
    "print(grovefilter.shape)\n",
    "print(data.shape)"
   ]
  },
  {
   "cell_type": "code",
   "execution_count": 156,
   "metadata": {},
   "outputs": [],
   "source": [
    "grovefilter['start'] = pd.to_datetime(grovefilter['start'], errors='coerce')"
   ]
  },
  {
   "cell_type": "code",
   "execution_count": 157,
   "metadata": {
    "scrolled": true
   },
   "outputs": [
    {
     "name": "stdout",
     "output_type": "stream",
     "text": [
      "                          start bikeid\n",
      "30      2015-09-21 15:57:25.000  24617\n",
      "49      2015-09-21 16:39:42.000  24687\n",
      "52      2015-09-21 16:44:48.000  24706\n",
      "79      2015-09-21 17:40:39.000  24478\n",
      "80      2015-09-21 17:41:53.000  24420\n",
      "...                         ...    ...\n",
      "1657319 2020-10-31 09:30:42.747  38358\n",
      "1657326 2020-10-31 09:46:34.154  44225\n",
      "1657347 2020-10-31 10:07:15.599  42361\n",
      "1657415 2020-10-31 11:24:26.440  42303\n",
      "1657462 2020-10-31 12:16:23.455  44285\n",
      "\n",
      "[178746 rows x 2 columns]\n"
     ]
    }
   ],
   "source": [
    "print (grovefilter) "
   ]
  },
  {
   "cell_type": "code",
   "execution_count": 158,
   "metadata": {},
   "outputs": [],
   "source": [
    "stations = grovefilter.groupby([grovefilter['start'].dt.date]).agg({'bikeid': ['count']})"
   ]
  },
  {
   "cell_type": "code",
   "execution_count": 159,
   "metadata": {},
   "outputs": [
    {
     "name": "stdout",
     "output_type": "stream",
     "text": [
      "           bikeid\n",
      "            count\n",
      "start            \n",
      "2015-09-21     32\n",
      "2015-09-22     66\n",
      "2015-09-23     71\n",
      "2015-09-24     85\n",
      "2015-09-25     65\n",
      "...           ...\n",
      "2020-10-27     78\n",
      "2020-10-28     76\n",
      "2020-10-29     31\n",
      "2020-10-30     40\n",
      "2020-10-31      8\n",
      "\n",
      "[1859 rows x 1 columns]\n"
     ]
    }
   ],
   "source": [
    "print (stations)"
   ]
  },
  {
   "cell_type": "code",
   "execution_count": 160,
   "metadata": {},
   "outputs": [],
   "source": [
    "yearweekcount = grovefilter.groupby([   grovefilter['start'].dt.year ,grovefilter['start'].dt.isocalendar().week ])['bikeid'].agg(['count'])\n",
    "yearweekcount.columns = ['Grove St PATH']"
   ]
  },
  {
   "cell_type": "code",
   "execution_count": null,
   "metadata": {},
   "outputs": [],
   "source": [
    "# join 2 tables \n",
    "pd.merge(product,customer,how='inner',left_on=['Year','Week'],right_on=['Year','Week'])"
   ]
  },
  {
   "cell_type": "code",
   "execution_count": 161,
   "metadata": {},
   "outputs": [
    {
     "name": "stdout",
     "output_type": "stream",
     "text": [
      "            Grove St PATH\n",
      "start week               \n",
      "2015  39              472\n",
      "      40              410\n",
      "      41              546\n",
      "      42              562\n",
      "      43              539\n",
      "...                   ...\n",
      "2020  40              989\n",
      "      41             1020\n",
      "      42              442\n",
      "      43              552\n",
      "      44              296\n",
      "\n",
      "[268 rows x 1 columns]\n"
     ]
    }
   ],
   "source": [
    "print(yearweekcount)"
   ]
  },
  {
   "cell_type": "code",
   "execution_count": 123,
   "metadata": {},
   "outputs": [
    {
     "data": {
      "text/html": [
       "<div>\n",
       "<style scoped>\n",
       "    .dataframe tbody tr th:only-of-type {\n",
       "        vertical-align: middle;\n",
       "    }\n",
       "\n",
       "    .dataframe tbody tr th {\n",
       "        vertical-align: top;\n",
       "    }\n",
       "\n",
       "    .dataframe thead th {\n",
       "        text-align: right;\n",
       "    }\n",
       "</style>\n",
       "<table border=\"1\" class=\"dataframe\">\n",
       "  <thead>\n",
       "    <tr style=\"text-align: right;\">\n",
       "      <th></th>\n",
       "      <th></th>\n",
       "      <th>count</th>\n",
       "    </tr>\n",
       "    <tr>\n",
       "      <th>Start Time</th>\n",
       "      <th>week</th>\n",
       "      <th></th>\n",
       "    </tr>\n",
       "  </thead>\n",
       "  <tbody>\n",
       "    <tr>\n",
       "      <th rowspan=\"5\" valign=\"top\">2016</th>\n",
       "      <th>1</th>\n",
       "      <td>251</td>\n",
       "    </tr>\n",
       "    <tr>\n",
       "      <th>2</th>\n",
       "      <td>293</td>\n",
       "    </tr>\n",
       "    <tr>\n",
       "      <th>3</th>\n",
       "      <td>191</td>\n",
       "    </tr>\n",
       "    <tr>\n",
       "      <th>4</th>\n",
       "      <td>110</td>\n",
       "    </tr>\n",
       "    <tr>\n",
       "      <th>5</th>\n",
       "      <td>244</td>\n",
       "    </tr>\n",
       "  </tbody>\n",
       "</table>\n",
       "</div>"
      ],
      "text/plain": [
       "                 count\n",
       "Start Time week       \n",
       "2016       1       251\n",
       "           2       293\n",
       "           3       191\n",
       "           4       110\n",
       "           5       244"
      ]
     },
     "execution_count": 123,
     "metadata": {},
     "output_type": "execute_result"
    }
   ],
   "source": [
    "yearweekcount.head()"
   ]
  },
  {
   "cell_type": "code",
   "execution_count": 162,
   "metadata": {},
   "outputs": [],
   "source": [
    "yearweekcount.index = yearweekcount.index.set_names([  'Year', 'Week'])\n",
    " "
   ]
  },
  {
   "cell_type": "code",
   "execution_count": 164,
   "metadata": {
    "scrolled": false
   },
   "outputs": [
    {
     "ename": "TypeError",
     "evalue": "bar() missing 2 required positional arguments: 'x' and 'height'",
     "output_type": "error",
     "traceback": [
      "\u001b[1;31m---------------------------------------------------------------------------\u001b[0m",
      "\u001b[1;31mTypeError\u001b[0m                                 Traceback (most recent call last)",
      "\u001b[1;32m<ipython-input-164-80d415395c3f>\u001b[0m in \u001b[0;36m<module>\u001b[1;34m\u001b[0m\n\u001b[1;32m----> 1\u001b[1;33m \u001b[0myearweekcount\u001b[0m\u001b[1;33m.\u001b[0m\u001b[0mplot\u001b[0m\u001b[1;33m(\u001b[0m\u001b[1;33m)\u001b[0m\u001b[1;33m.\u001b[0m\u001b[0mbar\u001b[0m\u001b[1;33m(\u001b[0m\u001b[1;33m)\u001b[0m\u001b[1;33m\u001b[0m\u001b[1;33m\u001b[0m\u001b[0m\n\u001b[0m",
      "\u001b[1;32m~\\anaconda3\\lib\\site-packages\\matplotlib\\__init__.py\u001b[0m in \u001b[0;36minner\u001b[1;34m(ax, data, *args, **kwargs)\u001b[0m\n\u001b[0;32m   1436\u001b[0m     \u001b[1;32mdef\u001b[0m \u001b[0minner\u001b[0m\u001b[1;33m(\u001b[0m\u001b[0max\u001b[0m\u001b[1;33m,\u001b[0m \u001b[1;33m*\u001b[0m\u001b[0margs\u001b[0m\u001b[1;33m,\u001b[0m \u001b[0mdata\u001b[0m\u001b[1;33m=\u001b[0m\u001b[1;32mNone\u001b[0m\u001b[1;33m,\u001b[0m \u001b[1;33m**\u001b[0m\u001b[0mkwargs\u001b[0m\u001b[1;33m)\u001b[0m\u001b[1;33m:\u001b[0m\u001b[1;33m\u001b[0m\u001b[1;33m\u001b[0m\u001b[0m\n\u001b[0;32m   1437\u001b[0m         \u001b[1;32mif\u001b[0m \u001b[0mdata\u001b[0m \u001b[1;32mis\u001b[0m \u001b[1;32mNone\u001b[0m\u001b[1;33m:\u001b[0m\u001b[1;33m\u001b[0m\u001b[1;33m\u001b[0m\u001b[0m\n\u001b[1;32m-> 1438\u001b[1;33m             \u001b[1;32mreturn\u001b[0m \u001b[0mfunc\u001b[0m\u001b[1;33m(\u001b[0m\u001b[0max\u001b[0m\u001b[1;33m,\u001b[0m \u001b[1;33m*\u001b[0m\u001b[0mmap\u001b[0m\u001b[1;33m(\u001b[0m\u001b[0msanitize_sequence\u001b[0m\u001b[1;33m,\u001b[0m \u001b[0margs\u001b[0m\u001b[1;33m)\u001b[0m\u001b[1;33m,\u001b[0m \u001b[1;33m**\u001b[0m\u001b[0mkwargs\u001b[0m\u001b[1;33m)\u001b[0m\u001b[1;33m\u001b[0m\u001b[1;33m\u001b[0m\u001b[0m\n\u001b[0m\u001b[0;32m   1439\u001b[0m \u001b[1;33m\u001b[0m\u001b[0m\n\u001b[0;32m   1440\u001b[0m         \u001b[0mbound\u001b[0m \u001b[1;33m=\u001b[0m \u001b[0mnew_sig\u001b[0m\u001b[1;33m.\u001b[0m\u001b[0mbind\u001b[0m\u001b[1;33m(\u001b[0m\u001b[0max\u001b[0m\u001b[1;33m,\u001b[0m \u001b[1;33m*\u001b[0m\u001b[0margs\u001b[0m\u001b[1;33m,\u001b[0m \u001b[1;33m**\u001b[0m\u001b[0mkwargs\u001b[0m\u001b[1;33m)\u001b[0m\u001b[1;33m\u001b[0m\u001b[1;33m\u001b[0m\u001b[0m\n",
      "\u001b[1;31mTypeError\u001b[0m: bar() missing 2 required positional arguments: 'x' and 'height'"
     ]
    },
    {
     "data": {
      "image/png": "[encoded data removed]",
      "text/plain": [
       "<Figure size 432x288 with 1 Axes>"
      ]
     },
     "metadata": {
      "needs_background": "light"
     },
     "output_type": "display_data"
    }
   ],
   "source": [
    "yearweekcount.plot()"
   ]
  },
  {
   "cell_type": "code",
   "execution_count": null,
   "metadata": {},
   "outputs": [],
   "source": []
  },
  {
   "cell_type": "code",
   "execution_count": null,
   "metadata": {},
   "outputs": [],
   "source": []
  },
  {
   "cell_type": "code",
   "execution_count": null,
   "metadata": {},
   "outputs": [],
   "source": []
  },
  {
   "cell_type": "code",
   "execution_count": null,
   "metadata": {},
   "outputs": [],
   "source": []
  },
  {
   "cell_type": "code",
   "execution_count": null,
   "metadata": {},
   "outputs": [],
   "source": []
  }
 ],
 "metadata": {
  "kernelspec": {
   "display_name": "Python 3",
   "language": "python",
   "name": "python3"
  },
  "language_info": {
   "codemirror_mode": {
    "name": "ipython",
    "version": 3
   },
   "file_extension": ".py",
   "mimetype": "text/x-python",
   "name": "python",
   "nbconvert_exporter": "python",
   "pygments_lexer": "ipython3",
   "version": "3.8.5"
  }
 },
 "nbformat": 4,
 "nbformat_minor": 4
}
