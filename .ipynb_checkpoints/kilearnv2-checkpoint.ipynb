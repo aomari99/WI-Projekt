{
 "cells": [
  {
   "cell_type": "code",
   "execution_count": 1,
   "metadata": {},
   "outputs": [],
   "source": [
    "import pandas as pd\n",
    "import numpy as np\n",
    "import matplotlib.pyplot as plt\n",
    "import tensorflow.keras as keras\n",
    "import tensorflow  as tf\n"
   ]
  },
  {
   "cell_type": "code",
   "execution_count": 2,
   "metadata": {},
   "outputs": [
    {
     "name": "stdout",
     "output_type": "stream",
     "text": [
      "['year', 'week', 'anzahl', 'station_5 Corners Library', 'station_Astor Place', 'station_Baldwin at Montgomery', 'station_Bayside Park', 'station_Bergen Ave', 'station_Bethune Center', 'station_Brunswick & 6th', 'station_Brunswick St', 'station_Central Ave', 'station_Christ Hospital', 'station_City Hall', 'station_Columbia Park', 'station_Columbus Dr at Exchange Pl', 'station_Columbus Drive', 'station_Communipaw & Berry Lane', 'station_Danforth Light Rail', 'station_Dey St', 'station_Dixon Mills', 'station_Essex Light Rail', 'station_Exchange Place', 'station_Fairmount Ave', 'station_Garfield Ave Station', 'station_Glenwood Ave', 'station_Grand St', 'station_Grove St PATH', 'station_Hamilton Park', 'station_Harborside', 'station_Heights Elevator', 'station_Hilltop', 'station_Hoboken Ave at Monmouth St', 'station_JC Medical Center', 'station_JCBS Depot', 'station_Jackson Square', 'station_Jersey & 3rd', 'station_Jersey & 6th St', 'station_Journal Square', 'station_Lafayette Park', 'station_Leonard Gordon Park', 'station_Liberty Light Rail', 'station_Lincoln Park', 'station_MLK Light Rail', 'station_Manila & 1st', 'station_Marin Light Rail', 'station_McGinley Square', 'station_Monmouth and 6th', 'station_Montgomery St', 'station_Morris Canal', 'station_NJCU', 'station_Newark Ave', 'station_Newport PATH', 'station_Newport Pkwy', 'station_North St', 'station_Oakland Ave', 'station_Paulus Hook', 'station_Pershing Field', 'station_Riverview Park', 'station_Sip Ave', 'station_Union St', 'station_Van Vorst Park', 'station_Warren St', 'station_Washington St', 'station_West Side Light Rail', 'station_York St']\n",
      "       year  week  station_5 Corners Library  station_Astor Place  \\\n",
      "0      2015    39                          1                    0   \n",
      "1      2015    39                          0                    0   \n",
      "2      2015    39                          0                    0   \n",
      "3      2015    39                          0                    0   \n",
      "4      2015    39                          0                    0   \n",
      "...     ...   ...                        ...                  ...   \n",
      "12708  2020    44                          0                    0   \n",
      "12709  2020    44                          0                    0   \n",
      "12710  2020    44                          0                    0   \n",
      "12711  2020    44                          0                    0   \n",
      "12712  2020    44                          0                    0   \n",
      "\n",
      "       station_Baldwin at Montgomery  station_Bayside Park  \\\n",
      "0                                  0                     0   \n",
      "1                                  1                     0   \n",
      "2                                  0                     1   \n",
      "3                                  0                     0   \n",
      "4                                  0                     0   \n",
      "...                              ...                   ...   \n",
      "12708                              0                     0   \n",
      "12709                              0                     0   \n",
      "12710                              0                     0   \n",
      "12711                              0                     0   \n",
      "12712                              0                     0   \n",
      "\n",
      "       station_Bergen Ave  station_Bethune Center  station_Brunswick & 6th  \\\n",
      "0                       0                       0                        0   \n",
      "1                       0                       0                        0   \n",
      "2                       0                       0                        0   \n",
      "3                       0                       0                        0   \n",
      "4                       0                       0                        0   \n",
      "...                   ...                     ...                      ...   \n",
      "12708                   0                       0                        0   \n",
      "12709                   0                       0                        0   \n",
      "12710                   0                       0                        0   \n",
      "12711                   0                       0                        0   \n",
      "12712                   0                       0                        0   \n",
      "\n",
      "       station_Brunswick St  ...  station_Pershing Field  \\\n",
      "0                         0  ...                       0   \n",
      "1                         0  ...                       0   \n",
      "2                         0  ...                       0   \n",
      "3                         1  ...                       0   \n",
      "4                         0  ...                       0   \n",
      "...                     ...  ...                     ...   \n",
      "12708                     0  ...                       0   \n",
      "12709                     0  ...                       0   \n",
      "12710                     0  ...                       0   \n",
      "12711                     0  ...                       0   \n",
      "12712                     0  ...                       0   \n",
      "\n",
      "       station_Riverview Park  station_Sip Ave  station_Union St  \\\n",
      "0                           0                0                 0   \n",
      "1                           0                0                 0   \n",
      "2                           0                0                 0   \n",
      "3                           0                0                 0   \n",
      "4                           0                0                 0   \n",
      "...                       ...              ...               ...   \n",
      "12708                       0                0                 1   \n",
      "12709                       0                0                 0   \n",
      "12710                       0                0                 0   \n",
      "12711                       0                0                 0   \n",
      "12712                       0                0                 0   \n",
      "\n",
      "       station_Van Vorst Park  station_Warren St  station_Washington St  \\\n",
      "0                           0                  0                      0   \n",
      "1                           0                  0                      0   \n",
      "2                           0                  0                      0   \n",
      "3                           0                  0                      0   \n",
      "4                           0                  0                      0   \n",
      "...                       ...                ...                    ...   \n",
      "12708                       0                  0                      0   \n",
      "12709                       1                  0                      0   \n",
      "12710                       0                  1                      0   \n",
      "12711                       0                  0                      1   \n",
      "12712                       0                  0                      0   \n",
      "\n",
      "       station_West Side Light Rail  station_York St  anzahl  \n",
      "0                                 0                0      43  \n",
      "1                                 0                0      66  \n",
      "2                                 0                0      16  \n",
      "3                                 0                0     186  \n",
      "4                                 0                0      25  \n",
      "...                             ...              ...     ...  \n",
      "12708                             0                0      12  \n",
      "12709                             0                0      68  \n",
      "12710                             0                0     131  \n",
      "12711                             0                0      93  \n",
      "12712                             0                1      28  \n",
      "\n",
      "[12713 rows x 66 columns]\n"
     ]
    }
   ],
   "source": [
    "frame = pd.read_csv(r'weekcount.csv')\n",
    "df = pd.DataFrame(frame)\n",
    "df =pd.get_dummies(df, prefix=['station' ])\n",
    "\n",
    "#reading and dumming datta\n",
    "col = list(df.columns.values)\n",
    "\n",
    "df = df[['year', 'week', 'station_5 Corners Library', 'station_Astor Place', 'station_Baldwin at Montgomery', 'station_Bayside Park', 'station_Bergen Ave', 'station_Bethune Center', 'station_Brunswick & 6th', 'station_Brunswick St', 'station_Central Ave', 'station_Christ Hospital', 'station_City Hall', 'station_Columbia Park', 'station_Columbus Dr at Exchange Pl', 'station_Columbus Drive', 'station_Communipaw & Berry Lane', 'station_Danforth Light Rail', 'station_Dey St', 'station_Dixon Mills', 'station_Essex Light Rail', 'station_Exchange Place', 'station_Fairmount Ave', 'station_Garfield Ave Station', 'station_Glenwood Ave', 'station_Grand St', 'station_Grove St PATH', 'station_Hamilton Park', 'station_Harborside', 'station_Heights Elevator', 'station_Hilltop', 'station_Hoboken Ave at Monmouth St', 'station_JC Medical Center', 'station_JCBS Depot', 'station_Jackson Square', 'station_Jersey & 3rd', 'station_Jersey & 6th St', 'station_Journal Square', 'station_Lafayette Park', 'station_Leonard Gordon Park', 'station_Liberty Light Rail', 'station_Lincoln Park', 'station_MLK Light Rail', 'station_Manila & 1st', 'station_Marin Light Rail', 'station_McGinley Square', 'station_Monmouth and 6th', 'station_Montgomery St', 'station_Morris Canal', 'station_NJCU', 'station_Newark Ave', 'station_Newport PATH', 'station_Newport Pkwy', 'station_North St', 'station_Oakland Ave', 'station_Paulus Hook', 'station_Pershing Field', 'station_Riverview Park', 'station_Sip Ave', 'station_Union St', 'station_Van Vorst Park', 'station_Warren St', 'station_Washington St', 'station_West Side Light Rail', 'station_York St', 'anzahl']]\n",
    "\n",
    "print(col)\n",
    "print(df)\n"
   ]
  },
  {
   "cell_type": "code",
   "execution_count": 3,
   "metadata": {},
   "outputs": [
    {
     "data": {
      "text/plain": [
       "count    12713.000000\n",
       "mean       130.422953\n",
       "std        142.650437\n",
       "min          1.000000\n",
       "25%         39.000000\n",
       "50%         88.000000\n",
       "75%        175.000000\n",
       "max       1407.000000\n",
       "Name: anzahl, dtype: float64"
      ]
     },
     "execution_count": 3,
     "metadata": {},
     "output_type": "execute_result"
    }
   ],
   "source": [
    "df['anzahl'].describe()"
   ]
  },
  {
   "cell_type": "code",
   "execution_count": 4,
   "metadata": {},
   "outputs": [
    {
     "name": "stdout",
     "output_type": "stream",
     "text": [
      "2.4.0\n",
      "['/device:CPU:0', '/device:GPU:0']\n"
     ]
    }
   ],
   "source": [
    "print(tf.__version__)\n",
    "from tensorflow.python.client import device_lib\n",
    "def get_available_devices():\n",
    "    local_device_protos = device_lib.list_local_devices()\n",
    "    return [x.name for x in local_device_protos]\n",
    "print(get_available_devices()) \n"
   ]
  },
  {
   "cell_type": "code",
   "execution_count": 6,
   "metadata": {},
   "outputs": [],
   "source": [
    "#loadmodel\n",
    "with tf.device('/device:GPU:0'):\n",
    "    model = keras.models.load_model('kimodel')"
   ]
  },
  {
   "cell_type": "code",
   "execution_count": 4,
   "metadata": {},
   "outputs": [
    {
     "name": "stdout",
     "output_type": "stream",
     "text": [
      "[[2015   39    1 ...    0    0    0]\n",
      " [2015   39    0 ...    0    0    0]\n",
      " [2015   39    0 ...    0    0    0]\n",
      " ...\n",
      " [2020   44    0 ...    0    0    0]\n",
      " [2020   44    0 ...    1    0    0]\n",
      " [2020   44    0 ...    0    0    1]]\n",
      "[17]\n"
     ]
    }
   ],
   "source": [
    "\n",
    "x = df.iloc[:,0:-1].values\n",
    "y = df.iloc[:,65:66].values\n",
    "print(x)\n",
    "print(y[21])\n"
   ]
  },
  {
   "cell_type": "code",
   "execution_count": 5,
   "metadata": {},
   "outputs": [
    {
     "name": "stdout",
     "output_type": "stream",
     "text": [
      "(10170, 1, 65)\n",
      "(2543, 1, 1)\n"
     ]
    }
   ],
   "source": [
    "#x_train, x_test, y_train, y_test = model_selection.train_test_split(X, y, test_size=0.15,shuffle=False )\n",
    "\n",
    "split_horizontally_idx = int(x.shape[0]* 0.8)\n",
    "x_train = x[:split_horizontally_idx , :].astype(int).reshape(-1,1 ,65)\n",
    "x_test = x[split_horizontally_idx: , :].astype(int).reshape(-1,1 ,65)\n",
    "y_train = y[:split_horizontally_idx , :].astype(int).reshape(-1,1,1)\n",
    "y_test = y[split_horizontally_idx: , :].astype(int).reshape(-1,1,1)\n",
    "print(x_train.shape); print(y_test.shape)\n",
    "tf.debugging.set_log_device_placement(True)"
   ]
  },
  {
   "cell_type": "code",
   "execution_count": 6,
   "metadata": {},
   "outputs": [
    {
     "name": "stdout",
     "output_type": "stream",
     "text": [
      "Executing op VarHandleOp in device /job:localhost/replica:0/task:0/device:GPU:0\n",
      "Executing op AssignVariableOp in device /job:localhost/replica:0/task:0/device:GPU:0\n",
      "Executing op VarHandleOp in device /job:localhost/replica:0/task:0/device:GPU:0\n",
      "Executing op AssignVariableOp in device /job:localhost/replica:0/task:0/device:GPU:0\n",
      "Executing op VarHandleOp in device /job:localhost/replica:0/task:0/device:GPU:0\n",
      "Executing op AssignVariableOp in device /job:localhost/replica:0/task:0/device:GPU:0\n",
      "WARNING:tensorflow:Layer lstm will not use cuDNN kernel since it doesn't meet the cuDNN kernel criteria. It will use generic GPU kernel as fallback when running on GPU\n",
      "Executing op RandomUniform in device /job:localhost/replica:0/task:0/device:GPU:0\n",
      "Executing op Sub in device /job:localhost/replica:0/task:0/device:GPU:0\n",
      "Executing op Mul in device /job:localhost/replica:0/task:0/device:GPU:0\n",
      "Executing op Add in device /job:localhost/replica:0/task:0/device:GPU:0\n",
      "Executing op VarHandleOp in device /job:localhost/replica:0/task:0/device:GPU:0\n",
      "Executing op AssignVariableOp in device /job:localhost/replica:0/task:0/device:GPU:0\n",
      "Executing op RandomStandardNormal in device /job:localhost/replica:0/task:0/device:GPU:0\n",
      "Executing op Mul in device /job:localhost/replica:0/task:0/device:GPU:0\n",
      "Executing op Add in device /job:localhost/replica:0/task:0/device:GPU:0\n",
      "Executing op Qr in device /job:localhost/replica:0/task:0/device:GPU:0\n",
      "Executing op DiagPart in device /job:localhost/replica:0/task:0/device:GPU:0\n",
      "Executing op Sign in device /job:localhost/replica:0/task:0/device:GPU:0\n",
      "Executing op Mul in device /job:localhost/replica:0/task:0/device:GPU:0\n",
      "Executing op Transpose in device /job:localhost/replica:0/task:0/device:GPU:0\n",
      "Executing op Reshape in device /job:localhost/replica:0/task:0/device:GPU:0\n",
      "Executing op Mul in device /job:localhost/replica:0/task:0/device:GPU:0\n",
      "Executing op VarHandleOp in device /job:localhost/replica:0/task:0/device:GPU:0\n",
      "Executing op AssignVariableOp in device /job:localhost/replica:0/task:0/device:GPU:0\n",
      "Executing op Fill in device /job:localhost/replica:0/task:0/device:GPU:0\n",
      "Executing op Fill in device /job:localhost/replica:0/task:0/device:GPU:0\n",
      "Executing op Fill in device /job:localhost/replica:0/task:0/device:GPU:0\n",
      "Executing op ConcatV2 in device /job:localhost/replica:0/task:0/device:GPU:0\n",
      "Executing op VarHandleOp in device /job:localhost/replica:0/task:0/device:GPU:0\n",
      "Executing op AssignVariableOp in device /job:localhost/replica:0/task:0/device:GPU:0\n",
      "Executing op Fill in device /job:localhost/replica:0/task:0/device:GPU:0\n",
      "Executing op VarHandleOp in device /job:localhost/replica:0/task:0/device:GPU:0\n",
      "Executing op AssignVariableOp in device /job:localhost/replica:0/task:0/device:GPU:0\n",
      "Executing op Fill in device /job:localhost/replica:0/task:0/device:GPU:0\n",
      "Executing op VarHandleOp in device /job:localhost/replica:0/task:0/device:GPU:0\n",
      "Executing op AssignVariableOp in device /job:localhost/replica:0/task:0/device:GPU:0\n",
      "Executing op VarHandleOp in device /job:localhost/replica:0/task:0/device:GPU:0\n",
      "Executing op AssignVariableOp in device /job:localhost/replica:0/task:0/device:GPU:0\n"
     ]
    }
   ],
   "source": [
    "from tensorflow.keras.models import Sequential\n",
    "from tensorflow.keras.layers import Dense\n",
    "from tensorflow.keras.optimizers import Adam\n",
    "from tensorflow.keras.layers import Dropout\n",
    "from tensorflow.keras.layers import Layer\n",
    "model = keras.models.Sequential()\n",
    " \n",
    "    \n",
    "model.add(keras.layers.LSTM(100, activation='relu', input_shape=(1,65) , return_sequences=True))\n",
    " \n",
    "\n",
    "model.compile(optimizer=tf.keras.optimizers.Adam(lr=0.0001), loss='mean_absolute_error', metrics=['accuracy'])"
   ]
  },
  {
   "cell_type": "code",
   "execution_count": null,
   "metadata": {},
   "outputs": [
    {
     "name": "stdout",
     "output_type": "stream",
     "text": [
      "<function device_v2 at 0x000002025205EDC0>\n",
      "Executing op ReadVariableOp in device /job:localhost/replica:0/task:0/device:GPU:0\n"
     ]
    }
   ],
   "source": [
    "with tf.device('/device:CPU:0'):\n",
    "    print(tf.device)\n",
    "    model.fit(x_train, y_train, epochs=200 ,batch_size=100)"
   ]
  },
  {
   "cell_type": "code",
   "execution_count": 1,
   "metadata": {},
   "outputs": [
    {
     "name": "stdout",
     "output_type": "stream",
     "text": [
      "Evaluate on test data\n"
     ]
    },
    {
     "ename": "NameError",
     "evalue": "name 'tf' is not defined",
     "output_type": "error",
     "traceback": [
      "\u001b[1;31m---------------------------------------------------------------------------\u001b[0m",
      "\u001b[1;31mNameError\u001b[0m                                 Traceback (most recent call last)",
      "\u001b[1;32m<ipython-input-1-de2473b57064>\u001b[0m in \u001b[0;36m<module>\u001b[1;34m\u001b[0m\n\u001b[0;32m      1\u001b[0m \u001b[0mprint\u001b[0m\u001b[1;33m(\u001b[0m\u001b[1;34m\"Evaluate on test data\"\u001b[0m\u001b[1;33m)\u001b[0m\u001b[1;33m\u001b[0m\u001b[1;33m\u001b[0m\u001b[0m\n\u001b[1;32m----> 2\u001b[1;33m \u001b[1;32mwith\u001b[0m \u001b[0mtf\u001b[0m\u001b[1;33m.\u001b[0m\u001b[0mdevice\u001b[0m\u001b[1;33m(\u001b[0m\u001b[1;34m'/device:GPU:0'\u001b[0m\u001b[1;33m)\u001b[0m\u001b[1;33m:\u001b[0m\u001b[1;33m\u001b[0m\u001b[1;33m\u001b[0m\u001b[0m\n\u001b[0m\u001b[0;32m      3\u001b[0m     \u001b[0mresults\u001b[0m \u001b[1;33m=\u001b[0m \u001b[0mmodel\u001b[0m\u001b[1;33m.\u001b[0m\u001b[0mevaluate\u001b[0m\u001b[1;33m(\u001b[0m\u001b[0mx_test\u001b[0m\u001b[1;33m,\u001b[0m \u001b[0my_test\u001b[0m \u001b[1;33m)\u001b[0m\u001b[1;33m\u001b[0m\u001b[1;33m\u001b[0m\u001b[0m\n\u001b[0;32m      4\u001b[0m \u001b[0mprint\u001b[0m\u001b[1;33m(\u001b[0m\u001b[1;34m\"test loss, test acc:\"\u001b[0m\u001b[1;33m,\u001b[0m \u001b[0mresults\u001b[0m\u001b[1;33m)\u001b[0m\u001b[1;33m\u001b[0m\u001b[1;33m\u001b[0m\u001b[0m\n",
      "\u001b[1;31mNameError\u001b[0m: name 'tf' is not defined"
     ]
    }
   ],
   "source": [
    "print(\"Evaluate on test data\")\n",
    "with tf.device('/device:GPU:0'):\n",
    "    results = model.evaluate(x_test, y_test )\n",
    "print(\"test loss, test acc:\", results)\n"
   ]
  },
  {
   "cell_type": "code",
   "execution_count": 57,
   "metadata": {},
   "outputs": [
    {
     "name": "stdout",
     "output_type": "stream",
     "text": [
      "tf.Tensor([ 1  2  2  2 -4], shape=(5,), dtype=int32)\n"
     ]
    }
   ],
   "source": [
    "x = tf.constant([0.9, 2.5, 2.3, 1.5, -4.5])\n",
    "o =  tf.cast( tf.round(x) ,(tf.int32))   # [ 1.0, 2.0, 2.0, 2.0, -4.0 ]\n",
    "print(o)"
   ]
  },
  {
   "cell_type": "code",
   "execution_count": 60,
   "metadata": {},
   "outputs": [
    {
     "name": "stdout",
     "output_type": "stream",
     "text": [
      "[2015   39    0    0    0    0    0    0    0    0    0    0    0    0\n",
      "    0    0    0    0    0    0    0    0    0    0    0    0    0    0\n",
      "    0    0    0    0    0    0    0    0    0    0    0    0    0    0\n",
      "    0    0    0    0    0    0    0    1    0    0    0    0    0    0\n",
      "    0    0    0    0    0    0    0    0    0]\n",
      "WARNING:tensorflow:10 out of the last 11 calls to <function Model.make_predict_function.<locals>.predict_function at 0x000001F540AAA310> triggered tf.function retracing. Tracing is expensive and the excessive number of tracings could be due to (1) creating @tf.function repeatedly in a loop, (2) passing tensors with different shapes, (3) passing Python objects instead of tensors. For (1), please define your @tf.function outside of the loop. For (2), @tf.function has experimental_relax_shapes=True option that relaxes argument shapes that can avoid unnecessary retracing. For (3), please refer to https://www.tensorflow.org/guide/function#controlling_retracing and https://www.tensorflow.org/api_docs/python/tf/function for  more details.\n",
      "[[85.61714]]\n",
      "[17]\n"
     ]
    }
   ],
   "source": [
    "test_data = x_train[21]\n",
    "print (test_data)\n",
    "with tf.device('/device:GPU:0'):\n",
    "    print(model.predict(test_data.reshape(1,65), batch_size=1))\n",
    "print(y_train[21])"
   ]
  },
  {
   "cell_type": "code",
   "execution_count": 45,
   "metadata": {},
   "outputs": [
    {
     "name": "stdout",
     "output_type": "stream",
     "text": [
      "Generate predictions for 3 samples\n",
      "[[2016   15    0 ...    0    0    0]\n",
      " [2016   15    0 ...    0    0    0]\n",
      " [2016   15    0 ...    0    0    0]\n",
      " ...\n",
      " [2016   15    0 ...    0    0    0]\n",
      " [2016   15    0 ...    0    0    0]\n",
      " [2016   15    0 ...    0    0    0]]\n",
      "WARNING:tensorflow:8 out of the last 9 calls to <function Model.make_predict_function.<locals>.predict_function at 0x000001F3FBDD4D30> triggered tf.function retracing. Tracing is expensive and the excessive number of tracings could be due to (1) creating @tf.function repeatedly in a loop, (2) passing tensors with different shapes, (3) passing Python objects instead of tensors. For (1), please define your @tf.function outside of the loop. For (2), @tf.function has experimental_relax_shapes=True option that relaxes argument shapes that can avoid unnecessary retracing. For (3), please refer to https://www.tensorflow.org/guide/function#controlling_retracing and https://www.tensorflow.org/api_docs/python/tf/function for  more details.\n",
      "predictions shape: [[299.57248  ]\n",
      " [ 29.856567 ]\n",
      " [ 42.468147 ]\n",
      " [ 86.027824 ]\n",
      " [113.86751  ]\n",
      " [ 41.639046 ]\n",
      " [  3.5615761]\n",
      " [ 95.32298  ]\n",
      " [  4.933673 ]\n",
      " [153.37263  ]\n",
      " [224.69577  ]\n",
      " [161.75076  ]\n",
      " [ 20.055721 ]\n",
      " [ 74.781044 ]\n",
      " [133.3488   ]\n",
      " [ 60.066917 ]\n",
      " [ 26.225454 ]\n",
      " [260.0593   ]\n",
      " [  6.7507567]\n",
      " [141.7228   ]]\n",
      "[[296]\n",
      " [ 33]\n",
      " [ 47]\n",
      " [ 88]\n",
      " [156]\n",
      " [ 72]\n",
      " [  6]\n",
      " [125]\n",
      " [  8]\n",
      " [168]\n",
      " [280]\n",
      " [185]\n",
      " [ 25]\n",
      " [ 59]\n",
      " [159]\n",
      " [ 75]\n",
      " [ 38]\n",
      " [297]\n",
      " [  2]\n",
      " [158]]\n"
     ]
    }
   ],
   "source": [
    "print(\"Generate predictions for 3 samples\")\n",
    "print(x_train[1000:1020])\n",
    "with tf.device('/device:GPU:0'):\n",
    "    predictions = model.predict(x_train[1000:1020])\n",
    "print(\"predictions shape:\",( predictions))\n",
    "print(y_train[1000:1020])"
   ]
  },
  {
   "cell_type": "code",
   "execution_count": 11,
   "metadata": {},
   "outputs": [
    {
     "name": "stdout",
     "output_type": "stream",
     "text": [
      "Generate predictions for 3 samples\n",
      "[[2019   47    0 ...    0    0    0]\n",
      " [2019   47    0 ...    0    0    0]\n",
      " [2019   47    0 ...    0    0    0]\n",
      " ...\n",
      " [2020   44    0 ...    0    0    0]\n",
      " [2020   44    0 ...    1    0    0]\n",
      " [2020   44    0 ...    0    0    1]]\n",
      "predictions shape: [[144.01079]\n",
      " [288.90933]\n",
      " [117.86981]\n",
      " ...\n",
      " [196.77861]\n",
      " [172.49219]\n",
      " [ 75.66333]]\n",
      "[[148]\n",
      " [165]\n",
      " [149]\n",
      " ...\n",
      " [131]\n",
      " [ 93]\n",
      " [ 28]]\n"
     ]
    }
   ],
   "source": [
    "print(\"Generate predictions for 3 samples\")\n",
    "print(x_test)\n",
    "with tf.device('/device:GPU:0'):\n",
    "    predictions = model.predict(x_test)\n",
    "print(\"predictions shape:\",( predictions))\n",
    "print(y_test)"
   ]
  },
  {
   "cell_type": "code",
   "execution_count": null,
   "metadata": {},
   "outputs": [],
   "source": [
    "#save model\n",
    "model.save('kimodel')"
   ]
  },
  {
   "cell_type": "code",
   "execution_count": null,
   "metadata": {},
   "outputs": [],
   "source": []
  }
 ],
 "metadata": {
  "kernelspec": {
   "display_name": "Python 3",
   "language": "python",
   "name": "python3"
  },
  "language_info": {
   "codemirror_mode": {
    "name": "ipython",
    "version": 3
   },
   "file_extension": ".py",
   "mimetype": "text/x-python",
   "name": "python",
   "nbconvert_exporter": "python",
   "pygments_lexer": "ipython3",
   "version": "3.8.5"
  }
 },
 "nbformat": 4,
 "nbformat_minor": 4
}
