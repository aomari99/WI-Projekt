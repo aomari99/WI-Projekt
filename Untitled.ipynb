{
 "cells": [
  {
   "cell_type": "code",
   "execution_count": 12,
   "metadata": {},
   "outputs": [],
   "source": [
    "import pandas as pd \n",
    "import os \n",
    "import matplotlib.pyplot as plt\n",
    "import numpy as np\n",
    "import glob\n",
    "import csv"
   ]
  },
  {
   "cell_type": "code",
   "execution_count": 151,
   "metadata": {},
   "outputs": [
    {
     "name": "stdout",
     "output_type": "stream",
     "text": [
      "                            start          station1 bikeid\n",
      "0             2015-09-21 14:53:16         City Hall  24722\n",
      "1             2015-09-21 14:55:59    Exchange Place  24388\n",
      "2             2015-09-21 14:56:14    Exchange Place  24442\n",
      "3             2015-09-21 14:58:35     Hamilton Park  24678\n",
      "4             2015-09-21 14:59:55     Hamilton Park  24574\n",
      "...                           ...               ...    ...\n",
      "1658062  2020-10-31 23:32:22.8650  Heights Elevator  17231\n",
      "1658063  2020-10-31 23:33:22.7310         City Hall  46532\n",
      "1658064  2020-10-31 23:37:01.7010  Monmouth and 6th  42230\n",
      "1658065  2020-10-31 23:37:46.1430  Monmouth and 6th  45341\n",
      "1658066  2020-10-31 23:40:06.3530           York St  45647\n",
      "\n",
      "[1658067 rows x 3 columns]\n"
     ]
    }
   ],
   "source": [
    "df = pd.read_csv(r'D:/adamo/Documents/DataminingFiles/DataminingFiles/JC/JC-20161-citibike-tripdata.csv', quoting=csv.QUOTE_NONE,  sep=',', error_bad_lines=False)\n",
    "\n",
    "import pandas as pd\n",
    "import glob\n",
    "\n",
    "path = r'D:/adamo/Documents/DataminingFiles/DataminingFiles/JC/' # use your path\n",
    "all_files = glob.glob(path + \"/JC-20*.csv\")\n",
    "headers = {0:'triptime',1:'start',2:'end',3:'stationid',4:'station1',5:'lat1',6:'long1',7:'endid',8:'endname',9:'lan2',10:'long2',11:'bikeid',12:'usertype',13:'birthyear',14:'gender'}\n",
    "li = []\n",
    "\n",
    "for filename in all_files:\n",
    "    df = pd.read_csv(filename,  header=None  ,   index_col=None,\n",
    "    encoding=None)\n",
    "    df = df.iloc[1:]\n",
    "    df = df.rename(columns=headers)\n",
    "    li.append(df)\n",
    "    \n",
    "\n",
    "frame = pd.concat(li, axis=0, ignore_index=True)\n",
    "\n",
    "data = pd.DataFrame(frame,columns=['start','station1','bikeid'])\n",
    "print(data)"
   ]
  },
  {
   "cell_type": "code",
   "execution_count": 152,
   "metadata": {},
   "outputs": [
    {
     "name": "stdout",
     "output_type": "stream",
     "text": [
      "                           station1\n",
      "0                         City Hall\n",
      "1                    Exchange Place\n",
      "3                     Hamilton Park\n",
      "5                           Sip Ave\n",
      "12                  Christ Hospital\n",
      "...                             ...\n",
      "663757                   Bergen Ave\n",
      "663806                     Grand St\n",
      "781528               Jackson Square\n",
      "1079005  Hoboken Ave at Monmouth St\n",
      "1134359  Columbus Dr at Exchange Pl\n",
      "\n",
      "[63 rows x 1 columns]\n"
     ]
    }
   ],
   "source": [
    "# list of states \n",
    "stationnamesframe = data[\"station1\"].drop_duplicates().dropna()\n",
    "stationnames =  pd.DataFrame(stationnamesframe , columns=['station1'])\n",
    "print(stationnames) # 63 stations in JC"
   ]
  },
  {
   "cell_type": "code",
   "execution_count": 178,
   "metadata": {},
   "outputs": [],
   "source": [
    "data['start'] = pd.to_datetime(data['start'], errors='coerce')"
   ]
  },
  {
   "cell_type": "code",
   "execution_count": 191,
   "metadata": {},
   "outputs": [
    {
     "name": "stdout",
     "output_type": "stream",
     "text": [
      "(30086, 15)\n",
      "(20572, 2)\n",
      "(1658067, 3)\n"
     ]
    }
   ],
   "source": [
    "filter1 = data[\"start\"].dt.year==2020\n",
    "filter2= data[\"station1\"]==\"Grove St PATH\"\n",
    "grovefilter = pd.DataFrame(data.where(filter1 & filter2),columns=['start' ,'bikeid']).dropna()\n",
    "print(df.shape)\n",
    "print(grovefilter.shape)\n",
    "print(data.shape)"
   ]
  },
  {
   "cell_type": "code",
   "execution_count": 157,
   "metadata": {
    "scrolled": true
   },
   "outputs": [
    {
     "name": "stdout",
     "output_type": "stream",
     "text": [
      "                          start bikeid\n",
      "30      2015-09-21 15:57:25.000  24617\n",
      "49      2015-09-21 16:39:42.000  24687\n",
      "52      2015-09-21 16:44:48.000  24706\n",
      "79      2015-09-21 17:40:39.000  24478\n",
      "80      2015-09-21 17:41:53.000  24420\n",
      "...                         ...    ...\n",
      "1657319 2020-10-31 09:30:42.747  38358\n",
      "1657326 2020-10-31 09:46:34.154  44225\n",
      "1657347 2020-10-31 10:07:15.599  42361\n",
      "1657415 2020-10-31 11:24:26.440  42303\n",
      "1657462 2020-10-31 12:16:23.455  44285\n",
      "\n",
      "[178746 rows x 2 columns]\n"
     ]
    }
   ],
   "source": [
    "print (grovefilter) "
   ]
  },
  {
   "cell_type": "code",
   "execution_count": 181,
   "metadata": {},
   "outputs": [],
   "source": [
    "stations = grovefilter.groupby([grovefilter['start'].dt.date]).agg({'bikeid': ['count']})"
   ]
  },
  {
   "cell_type": "code",
   "execution_count": 182,
   "metadata": {},
   "outputs": [
    {
     "name": "stdout",
     "output_type": "stream",
     "text": [
      "           bikeid\n",
      "            count\n",
      "start            \n",
      "2020-01-01     47\n",
      "2020-01-02     81\n",
      "2020-01-03    101\n",
      "2020-01-04     51\n",
      "2020-01-05     70\n",
      "...           ...\n",
      "2020-10-27     78\n",
      "2020-10-28     76\n",
      "2020-10-29     31\n",
      "2020-10-30     40\n",
      "2020-10-31      8\n",
      "\n",
      "[305 rows x 1 columns]\n"
     ]
    }
   ],
   "source": [
    "print (stations)"
   ]
  },
  {
   "cell_type": "code",
   "execution_count": 192,
   "metadata": {},
   "outputs": [],
   "source": [
    "yearweekcount = grovefilter.groupby([   grovefilter['start'].dt.year ,grovefilter['start'].dt.isocalendar().week ])['bikeid'].agg(['count'])\n",
    "yearweekcount.columns = ['Grove St PATH']\n",
    "yearcount = grovefilter.groupby([   grovefilter['start'].dt.year ])['bikeid'].agg(['count'])\n",
    "monthcount = grovefilter.groupby([   grovefilter['start'].dt.year ,grovefilter['start'].dt.month ])['bikeid'].agg(['count'])\n",
    "\n",
    "yearcount.columns = ['Grove St PATH']"
   ]
  },
  {
   "cell_type": "code",
   "execution_count": 184,
   "metadata": {},
   "outputs": [
    {
     "ename": "NameError",
     "evalue": "name 'product' is not defined",
     "output_type": "error",
     "traceback": [
      "\u001b[1;31m---------------------------------------------------------------------------\u001b[0m",
      "\u001b[1;31mNameError\u001b[0m                                 Traceback (most recent call last)",
      "\u001b[1;32m<ipython-input-184-d1718b4bb00b>\u001b[0m in \u001b[0;36m<module>\u001b[1;34m\u001b[0m\n\u001b[0;32m      1\u001b[0m \u001b[1;31m# join 2 tables\u001b[0m\u001b[1;33m\u001b[0m\u001b[1;33m\u001b[0m\u001b[1;33m\u001b[0m\u001b[0m\n\u001b[1;32m----> 2\u001b[1;33m \u001b[0mpd\u001b[0m\u001b[1;33m.\u001b[0m\u001b[0mmerge\u001b[0m\u001b[1;33m(\u001b[0m\u001b[0mproduct\u001b[0m\u001b[1;33m,\u001b[0m\u001b[0mcustomer\u001b[0m\u001b[1;33m,\u001b[0m\u001b[0mhow\u001b[0m\u001b[1;33m=\u001b[0m\u001b[1;34m'inner'\u001b[0m\u001b[1;33m,\u001b[0m\u001b[0mleft_on\u001b[0m\u001b[1;33m=\u001b[0m\u001b[1;33m[\u001b[0m\u001b[1;34m'Year'\u001b[0m\u001b[1;33m,\u001b[0m\u001b[1;34m'Week'\u001b[0m\u001b[1;33m]\u001b[0m\u001b[1;33m,\u001b[0m\u001b[0mright_on\u001b[0m\u001b[1;33m=\u001b[0m\u001b[1;33m[\u001b[0m\u001b[1;34m'Year'\u001b[0m\u001b[1;33m,\u001b[0m\u001b[1;34m'Week'\u001b[0m\u001b[1;33m]\u001b[0m\u001b[1;33m)\u001b[0m\u001b[1;33m\u001b[0m\u001b[1;33m\u001b[0m\u001b[0m\n\u001b[0m",
      "\u001b[1;31mNameError\u001b[0m: name 'product' is not defined"
     ]
    }
   ],
   "source": [
    "# join 2 tables \n",
    "pd.merge(alldata,d1,how='inner',left_on=['Year','Week'],right_on=['Year','Week'])"
   ]
  },
  {
   "cell_type": "code",
   "execution_count": 185,
   "metadata": {},
   "outputs": [
    {
     "name": "stdout",
     "output_type": "stream",
     "text": [
      "           Grove St PATH\n",
      "Year Week               \n",
      "2020 1               350\n",
      "     2               802\n",
      "     3               683\n",
      "     4               623\n",
      "     5               723\n",
      "     6               698\n",
      "     7               508\n",
      "     8               596\n",
      "     9               492\n",
      "     10              518\n",
      "     11              518\n",
      "     12              168\n",
      "     13               65\n",
      "     14               76\n",
      "     15               80\n",
      "     16               67\n",
      "     17               78\n",
      "     18              170\n",
      "     19              134\n",
      "     20              225\n",
      "     21              233\n",
      "     22              345\n",
      "     23              312\n",
      "     24              389\n",
      "     25              504\n",
      "     26              476\n",
      "     27              455\n",
      "     28              426\n",
      "     29              602\n",
      "     30              494\n",
      "     31              553\n",
      "     32              525\n",
      "     33              610\n",
      "     34              600\n",
      "     35              571\n",
      "     36              631\n",
      "     37              677\n",
      "     38              672\n",
      "     39              624\n",
      "     40              989\n",
      "     41             1020\n",
      "     42              442\n",
      "     43              552\n",
      "     44              296\n"
     ]
    }
   ],
   "source": [
    "yearweekcount.index = yearweekcount.index.set_names([  'Year', 'Week'])\n",
    "print(yearweekcount)"
   ]
  },
  {
   "cell_type": "code",
   "execution_count": 169,
   "metadata": {},
   "outputs": [
    {
     "data": {
      "text/html": [
       "<div>\n",
       "<style scoped>\n",
       "    .dataframe tbody tr th:only-of-type {\n",
       "        vertical-align: middle;\n",
       "    }\n",
       "\n",
       "    .dataframe tbody tr th {\n",
       "        vertical-align: top;\n",
       "    }\n",
       "\n",
       "    .dataframe thead th {\n",
       "        text-align: right;\n",
       "    }\n",
       "</style>\n",
       "<table border=\"1\" class=\"dataframe\">\n",
       "  <thead>\n",
       "    <tr style=\"text-align: right;\">\n",
       "      <th></th>\n",
       "      <th></th>\n",
       "      <th>Grove St PATH</th>\n",
       "    </tr>\n",
       "    <tr>\n",
       "      <th>Year</th>\n",
       "      <th>Week</th>\n",
       "      <th></th>\n",
       "    </tr>\n",
       "  </thead>\n",
       "  <tbody>\n",
       "    <tr>\n",
       "      <th rowspan=\"5\" valign=\"top\">2015</th>\n",
       "      <th>39</th>\n",
       "      <td>472</td>\n",
       "    </tr>\n",
       "    <tr>\n",
       "      <th>40</th>\n",
       "      <td>410</td>\n",
       "    </tr>\n",
       "    <tr>\n",
       "      <th>41</th>\n",
       "      <td>546</td>\n",
       "    </tr>\n",
       "    <tr>\n",
       "      <th>42</th>\n",
       "      <td>562</td>\n",
       "    </tr>\n",
       "    <tr>\n",
       "      <th>43</th>\n",
       "      <td>539</td>\n",
       "    </tr>\n",
       "  </tbody>\n",
       "</table>\n",
       "</div>"
      ],
      "text/plain": [
       "           Grove St PATH\n",
       "Year Week               \n",
       "2015 39              472\n",
       "     40              410\n",
       "     41              546\n",
       "     42              562\n",
       "     43              539"
      ]
     },
     "execution_count": 169,
     "metadata": {},
     "output_type": "execute_result"
    }
   ],
   "source": [
    "yearweekcount.head()"
   ]
  },
  {
   "cell_type": "code",
   "execution_count": 173,
   "metadata": {},
   "outputs": [
    {
     "name": "stdout",
     "output_type": "stream",
     "text": [
      "      Grove St PATH\n",
      "Year               \n",
      "2015           5989\n",
      "2016          28736\n",
      "2017          35856\n",
      "2018          40931\n",
      "2019          46662\n",
      "2020          20572\n"
     ]
    }
   ],
   "source": [
    "yearcount.index = yearcount.index.set_names(['Year'])\n",
    "print(yearcount)"
   ]
  },
  {
   "cell_type": "code",
   "execution_count": 165,
   "metadata": {
    "scrolled": false
   },
   "outputs": [
    {
     "data": {
      "text/plain": [
       "<AxesSubplot:xlabel='Year,Week'>"
      ]
     },
     "execution_count": 165,
     "metadata": {},
     "output_type": "execute_result"
    },
    {
     "data": {
      "image/png": "[encoded data removed]",
      "text/plain": [
       "<Figure size 432x288 with 1 Axes>"
      ]
     },
     "metadata": {
      "needs_background": "light"
     },
     "output_type": "display_data"
    }
   ],
   "source": [
    "yearweekcount.plot(kind='bar')"
   ]
  },
  {
   "cell_type": "code",
   "execution_count": 174,
   "metadata": {},
   "outputs": [
    {
     "data": {
      "text/plain": [
       "<AxesSubplot:xlabel='Year'>"
      ]
     },
     "execution_count": 174,
     "metadata": {},
     "output_type": "execute_result"
    },
    {
     "data": {
      "image/png": "[encoded data removed]",
      "text/plain": [
       "<Figure size 432x288 with 1 Axes>"
      ]
     },
     "metadata": {
      "needs_background": "light"
     },
     "output_type": "display_data"
    }
   ],
   "source": [
    "yearcount.plot(kind='bar')"
   ]
  },
  {
   "cell_type": "code",
   "execution_count": 190,
   "metadata": {},
   "outputs": [
    {
     "data": {
      "text/plain": [
       "<AxesSubplot:xlabel='start,start'>"
      ]
     },
     "execution_count": 190,
     "metadata": {},
     "output_type": "execute_result"
    },
    {
     "data": {
      "image/png": "[encoded data removed]",
      "text/plain": [
       "<Figure size 432x288 with 1 Axes>"
      ]
     },
     "metadata": {
      "needs_background": "light"
     },
     "output_type": "display_data"
    }
   ],
   "source": [
    "monthcount.plot(kind='bar')"
   ]
  },
  {
   "cell_type": "code",
   "execution_count": 193,
   "metadata": {},
   "outputs": [
    {
     "data": {
      "text/plain": [
       "<AxesSubplot:xlabel='start,start'>"
      ]
     },
     "execution_count": 193,
     "metadata": {},
     "output_type": "execute_result"
    },
    {
     "data": {
      "image/png": "[encoded data removed]",
      "text/plain": [
       "<Figure size 432x288 with 1 Axes>"
      ]
     },
     "metadata": {
      "needs_background": "light"
     },
     "output_type": "display_data"
    }
   ],
   "source": [
    "monthcount.plot(kind='bar')"
   ]
  },
  {
   "cell_type": "code",
   "execution_count": null,
   "metadata": {},
   "outputs": [],
   "source": []
  },
  {
   "cell_type": "code",
   "execution_count": null,
   "metadata": {},
   "outputs": [],
   "source": []
  }
 ],
 "metadata": {
  "kernelspec": {
   "display_name": "Python 3",
   "language": "python",
   "name": "python3"
  },
  "language_info": {
   "codemirror_mode": {
    "name": "ipython",
    "version": 3
   },
   "file_extension": ".py",
   "mimetype": "text/x-python",
   "name": "python",
   "nbconvert_exporter": "python",
   "pygments_lexer": "ipython3",
   "version": "3.8.5"
  }
 },
 "nbformat": 4,
 "nbformat_minor": 4
}
