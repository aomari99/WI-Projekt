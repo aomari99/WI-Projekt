{
 "cells": [
  {
   "cell_type": "code",
   "execution_count": 108,
   "metadata": {},
   "outputs": [],
   "source": [
    "import pandas as pd \n",
    "import os \n",
    "import matplotlib.pyplot as plt\n",
    "\n"
   ]
  },
  {
   "cell_type": "code",
   "execution_count": 109,
   "metadata": {},
   "outputs": [],
   "source": [
    "df = pd.read_csv(r'D:/adamo/Documents/DataminingFiles/DataminingFiles/202010-citibike-tripdata.csv' , parse_dates={'startt':['starttime']},\n",
    "                 keep_date_col = False )"
   ]
  },
  {
   "cell_type": "code",
   "execution_count": 110,
   "metadata": {},
   "outputs": [
    {
     "name": "stdout",
     "output_type": "stream",
     "text": [
      "                         startt  tripduration                  stoptime  \\\n",
      "0       2020-10-01 00:00:10.787          1403  2020-10-01 00:23:34.5400   \n",
      "1       2020-10-01 00:00:18.239           462  2020-10-01 00:08:00.5710   \n",
      "2       2020-10-01 00:00:21.307           770  2020-10-01 00:13:12.0840   \n",
      "3       2020-10-01 00:00:25.008           233  2020-10-01 00:04:18.6410   \n",
      "4       2020-10-01 00:00:25.310           126  2020-10-01 00:02:32.1330   \n",
      "...                         ...           ...                       ...   \n",
      "2248864 2020-10-31 23:59:48.447          1120  2020-11-01 00:18:29.3280   \n",
      "2248865 2020-10-31 23:59:49.377           859  2020-11-01 00:14:09.1920   \n",
      "2248866 2020-10-31 23:59:52.104           546  2020-11-01 00:08:59.0710   \n",
      "2248867 2020-10-31 23:59:53.029           748  2020-11-01 00:12:21.7830   \n",
      "2248868 2020-10-31 23:59:57.977          1366  2020-11-01 00:22:44.1290   \n",
      "\n",
      "         start station id                  start station name  \\\n",
      "0                     224               Spruce St & Nassau St   \n",
      "1                    3161              W 76 St & Columbus Ave   \n",
      "2                     354             Emerson Pl & Myrtle Ave   \n",
      "3                    3141                     1 Ave & E 68 St   \n",
      "4                     335            Washington Pl & Broadway   \n",
      "...                   ...                                 ...   \n",
      "2248864               471             Grand St & Havemeyer St   \n",
      "2248865              4005  St. Nicholas Terrace & Convent Ave   \n",
      "2248866              4010            W 145 St & Amsterdam Ave   \n",
      "2248867              3783                Cliff St & Fulton St   \n",
      "2248868               402                  Broadway & E 22 St   \n",
      "\n",
      "         start station latitude  start station longitude  end station id  \\\n",
      "0                     40.711464               -74.005524            3347   \n",
      "1                     40.780184               -73.977285            3158   \n",
      "2                     40.693631               -73.962236            3761   \n",
      "3                     40.765005               -73.958185             464   \n",
      "4                     40.729039               -73.994046             229   \n",
      "...                         ...                      ...             ...   \n",
      "2248864               40.712868               -73.956981            3764   \n",
      "2248865               40.821294               -73.947868            3960   \n",
      "2248866               40.825244               -73.947257            4057   \n",
      "2248867               40.708380               -74.004950             432   \n",
      "2248868               40.740343               -73.989551             468   \n",
      "\n",
      "                   end station name  end station latitude  \\\n",
      "0         Van Brunt St & Wolcott St             40.677343   \n",
      "1                W 63 St & Broadway             40.771639   \n",
      "2             Cedar St & Myrtle Ave             40.697842   \n",
      "3                   E 56 St & 3 Ave             40.759345   \n",
      "4                    Great Jones St             40.727434   \n",
      "...                             ...                   ...   \n",
      "2248864  Bushwick Ave & McKibbin St             40.705517   \n",
      "2248865      Hamilton Pl & W 140 St             40.822756   \n",
      "2248866    Amsterdam Ave & W 167 St             40.839443   \n",
      "2248867           E 7 St & Avenue A             40.726218   \n",
      "2248868          Broadway & W 56 St             40.765265   \n",
      "\n",
      "         end station longitude  bikeid    usertype  birth year  gender  \n",
      "0                   -74.012751   39079  Subscriber        1995       1  \n",
      "1                   -73.982614   41267  Subscriber        1998       2  \n",
      "2                   -73.926241   47398    Customer        1996       1  \n",
      "3                   -73.967597   36482  Subscriber        1993       1  \n",
      "4                   -73.993790   45319  Subscriber        1989       1  \n",
      "...                        ...     ...         ...         ...     ...  \n",
      "2248864             -73.939360   35356    Customer        1996       1  \n",
      "2248865             -73.951346   48322    Customer        1999       1  \n",
      "2248866             -73.937044   44589  Subscriber        1976       1  \n",
      "2248867             -73.983799   48511  Subscriber        1997       2  \n",
      "2248868             -73.981923   37248  Subscriber        1974       2  \n",
      "\n",
      "[2248869 rows x 15 columns]\n"
     ]
    }
   ],
   "source": [
    "print (df) "
   ]
  },
  {
   "cell_type": "code",
   "execution_count": 111,
   "metadata": {},
   "outputs": [],
   "source": [
    "stations = df.groupby([df['startt'].dt.date]).agg({'start station name': ['nunique']})"
   ]
  },
  {
   "cell_type": "code",
   "execution_count": 112,
   "metadata": {},
   "outputs": [
    {
     "name": "stdout",
     "output_type": "stream",
     "text": [
      "           start station name\n",
      "                      nunique\n",
      "startt                       \n",
      "2020-10-01               1081\n",
      "2020-10-02               1081\n",
      "2020-10-03               1081\n",
      "2020-10-04               1076\n",
      "2020-10-05               1087\n",
      "2020-10-06               1087\n",
      "2020-10-07               1090\n",
      "2020-10-08               1091\n",
      "2020-10-09               1099\n",
      "2020-10-10               1094\n",
      "2020-10-11               1095\n",
      "2020-10-12               1038\n",
      "2020-10-13               1087\n",
      "2020-10-14               1103\n",
      "2020-10-15               1107\n",
      "2020-10-16               1083\n",
      "2020-10-17               1101\n",
      "2020-10-18               1098\n",
      "2020-10-19               1106\n",
      "2020-10-20               1112\n",
      "2020-10-21               1109\n",
      "2020-10-22               1112\n",
      "2020-10-23               1114\n",
      "2020-10-24               1113\n",
      "2020-10-25               1113\n",
      "2020-10-26               1114\n",
      "2020-10-27               1118\n",
      "2020-10-28               1118\n",
      "2020-10-29               1066\n",
      "2020-10-30               1116\n",
      "2020-10-31               1116\n"
     ]
    }
   ],
   "source": [
    "print (stations)"
   ]
  },
  {
   "cell_type": "code",
   "execution_count": 71,
   "metadata": {},
   "outputs": [],
   "source": [
    "yearweekcount = df[['startt','start station id','bikeid']]"
   ]
  },
  {
   "cell_type": "code",
   "execution_count": 72,
   "metadata": {},
   "outputs": [],
   "source": [
    " yearweekcount = yearweekcount.groupby([ df[\"start station id\"] , df['startt'].dt.year ,df['startt'].dt.isocalendar().week])['bikeid'].agg(['count'])"
   ]
  },
  {
   "cell_type": "code",
   "execution_count": 73,
   "metadata": {},
   "outputs": [
    {
     "data": {
      "text/html": [
       "<div>\n",
       "<style scoped>\n",
       "    .dataframe tbody tr th:only-of-type {\n",
       "        vertical-align: middle;\n",
       "    }\n",
       "\n",
       "    .dataframe tbody tr th {\n",
       "        vertical-align: top;\n",
       "    }\n",
       "\n",
       "    .dataframe thead th {\n",
       "        text-align: right;\n",
       "    }\n",
       "</style>\n",
       "<table border=\"1\" class=\"dataframe\">\n",
       "  <thead>\n",
       "    <tr style=\"text-align: right;\">\n",
       "      <th></th>\n",
       "      <th></th>\n",
       "      <th></th>\n",
       "      <th>count</th>\n",
       "    </tr>\n",
       "    <tr>\n",
       "      <th>start station id</th>\n",
       "      <th>startt</th>\n",
       "      <th>week</th>\n",
       "      <th></th>\n",
       "    </tr>\n",
       "  </thead>\n",
       "  <tbody>\n",
       "    <tr>\n",
       "      <th rowspan=\"5\" valign=\"top\">3184</th>\n",
       "      <th rowspan=\"5\" valign=\"top\">2020</th>\n",
       "      <th>36</th>\n",
       "      <td>180</td>\n",
       "    </tr>\n",
       "    <tr>\n",
       "      <th>37</th>\n",
       "      <td>228</td>\n",
       "    </tr>\n",
       "    <tr>\n",
       "      <th>38</th>\n",
       "      <td>169</td>\n",
       "    </tr>\n",
       "    <tr>\n",
       "      <th>39</th>\n",
       "      <td>189</td>\n",
       "    </tr>\n",
       "    <tr>\n",
       "      <th>40</th>\n",
       "      <td>163</td>\n",
       "    </tr>\n",
       "  </tbody>\n",
       "</table>\n",
       "</div>"
      ],
      "text/plain": [
       "                              count\n",
       "start station id startt week       \n",
       "3184             2020   36      180\n",
       "                        37      228\n",
       "                        38      169\n",
       "                        39      189\n",
       "                        40      163"
      ]
     },
     "execution_count": 73,
     "metadata": {},
     "output_type": "execute_result"
    }
   ],
   "source": [
    "yearweekcount.head()"
   ]
  },
  {
   "cell_type": "code",
   "execution_count": 74,
   "metadata": {},
   "outputs": [],
   "source": [
    "yearweekcount.index = yearweekcount.index.set_names(['station', 'Year', 'Week'])"
   ]
  },
  {
   "cell_type": "code",
   "execution_count": 75,
   "metadata": {},
   "outputs": [
    {
     "data": {
      "text/html": [
       "<div>\n",
       "<style scoped>\n",
       "    .dataframe tbody tr th:only-of-type {\n",
       "        vertical-align: middle;\n",
       "    }\n",
       "\n",
       "    .dataframe tbody tr th {\n",
       "        vertical-align: top;\n",
       "    }\n",
       "\n",
       "    .dataframe thead th {\n",
       "        text-align: right;\n",
       "    }\n",
       "</style>\n",
       "<table border=\"1\" class=\"dataframe\">\n",
       "  <thead>\n",
       "    <tr style=\"text-align: right;\">\n",
       "      <th></th>\n",
       "      <th></th>\n",
       "      <th></th>\n",
       "      <th>count</th>\n",
       "    </tr>\n",
       "    <tr>\n",
       "      <th>station</th>\n",
       "      <th>Year</th>\n",
       "      <th>Week</th>\n",
       "      <th></th>\n",
       "    </tr>\n",
       "  </thead>\n",
       "  <tbody>\n",
       "    <tr>\n",
       "      <th rowspan=\"5\" valign=\"top\">3184</th>\n",
       "      <th rowspan=\"5\" valign=\"top\">2020</th>\n",
       "      <th>36</th>\n",
       "      <td>180</td>\n",
       "    </tr>\n",
       "    <tr>\n",
       "      <th>37</th>\n",
       "      <td>228</td>\n",
       "    </tr>\n",
       "    <tr>\n",
       "      <th>38</th>\n",
       "      <td>169</td>\n",
       "    </tr>\n",
       "    <tr>\n",
       "      <th>39</th>\n",
       "      <td>189</td>\n",
       "    </tr>\n",
       "    <tr>\n",
       "      <th>40</th>\n",
       "      <td>163</td>\n",
       "    </tr>\n",
       "  </tbody>\n",
       "</table>\n",
       "</div>"
      ],
      "text/plain": [
       "                   count\n",
       "station Year Week       \n",
       "3184    2020 36      180\n",
       "             37      228\n",
       "             38      169\n",
       "             39      189\n",
       "             40      163"
      ]
     },
     "execution_count": 75,
     "metadata": {},
     "output_type": "execute_result"
    }
   ],
   "source": [
    "yearweekcount.head()"
   ]
  },
  {
   "cell_type": "code",
   "execution_count": null,
   "metadata": {},
   "outputs": [],
   "source": []
  },
  {
   "cell_type": "code",
   "execution_count": 80,
   "metadata": {
    "scrolled": true
   },
   "outputs": [
    {
     "data": {
      "text/plain": [
       "<AxesSubplot:xlabel='station,Year,Week'>"
      ]
     },
     "execution_count": 80,
     "metadata": {},
     "output_type": "execute_result"
    },
    {
     "data": {
      "image/png": "[encoded data removed]",
      "text/plain": [
       "<Figure size 432x288 with 1 Axes>"
      ]
     },
     "metadata": {
      "needs_background": "light"
     },
     "output_type": "display_data"
    }
   ],
   "source": [
    "yearweekcount.plot()"
   ]
  },
  {
   "cell_type": "code",
   "execution_count": null,
   "metadata": {},
   "outputs": [],
   "source": []
  }
 ],
 "metadata": {
  "kernelspec": {
   "display_name": "Python 3",
   "language": "python",
   "name": "python3"
  },
  "language_info": {
   "codemirror_mode": {
    "name": "ipython",
    "version": 3
   },
   "file_extension": ".py",
   "mimetype": "text/x-python",
   "name": "python",
   "nbconvert_exporter": "python",
   "pygments_lexer": "ipython3",
   "version": "3.8.5"
  }
 },
 "nbformat": 4,
 "nbformat_minor": 4
}
