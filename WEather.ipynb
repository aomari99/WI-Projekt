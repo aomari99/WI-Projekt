{
 "cells": [
  {
   "cell_type": "code",
   "execution_count": 86,
   "metadata": {},
   "outputs": [],
   "source": [
    "import pandas as pd\n",
    "import numpy as np\n",
    "import matplotlib.pyplot as plt\n",
    "import tensorflow.keras as keras\n",
    "import tensorflow  as tf\n",
    "import os"
   ]
  },
  {
   "cell_type": "code",
   "execution_count": 87,
   "metadata": {},
   "outputs": [
    {
     "name": "stdout",
     "output_type": "stream",
     "text": [
      "Num GPUs Available:  1\n"
     ]
    }
   ],
   "source": [
    "print(\"Num GPUs Available: \", len(tf.config.experimental.list_physical_devices('GPU')))"
   ]
  },
  {
   "cell_type": "code",
   "execution_count": 88,
   "metadata": {},
   "outputs": [
    {
     "name": "stdout",
     "output_type": "stream",
     "text": [
      "['year', 'week', 'anzahl', 'station_5 Corners Library', 'station_Astor Place', 'station_Baldwin at Montgomery', 'station_Bayside Park', 'station_Bergen Ave', 'station_Bethune Center', 'station_Brunswick & 6th', 'station_Brunswick St', 'station_Central Ave', 'station_Christ Hospital', 'station_City Hall', 'station_Columbia Park', 'station_Columbus Dr at Exchange Pl', 'station_Columbus Drive', 'station_Communipaw & Berry Lane', 'station_Danforth Light Rail', 'station_Dey St', 'station_Dixon Mills', 'station_Essex Light Rail', 'station_Exchange Place', 'station_Fairmount Ave', 'station_Garfield Ave Station', 'station_Glenwood Ave', 'station_Grand St', 'station_Grove St PATH', 'station_Hamilton Park', 'station_Harborside', 'station_Heights Elevator', 'station_Hilltop', 'station_Hoboken Ave at Monmouth St', 'station_JC Medical Center', 'station_JCBS Depot', 'station_Jackson Square', 'station_Jersey & 3rd', 'station_Jersey & 6th St', 'station_Journal Square', 'station_Lafayette Park', 'station_Leonard Gordon Park', 'station_Liberty Light Rail', 'station_Lincoln Park', 'station_MLK Light Rail', 'station_Manila & 1st', 'station_Marin Light Rail', 'station_McGinley Square', 'station_Monmouth and 6th', 'station_Montgomery St', 'station_Morris Canal', 'station_NJCU', 'station_Newark Ave', 'station_Newport PATH', 'station_Newport Pkwy', 'station_North St', 'station_Oakland Ave', 'station_Paulus Hook', 'station_Pershing Field', 'station_Riverview Park', 'station_Sip Ave', 'station_Union St', 'station_Van Vorst Park', 'station_Warren St', 'station_Washington St', 'station_West Side Light Rail', 'station_York St']\n",
      "       year  week  station_5 Corners Library  station_Astor Place  \\\n",
      "0      2015    39                          1                    0   \n",
      "1      2015    39                          0                    0   \n",
      "2      2015    39                          0                    0   \n",
      "3      2015    39                          0                    0   \n",
      "4      2015    39                          0                    0   \n",
      "...     ...   ...                        ...                  ...   \n",
      "12708  2020    44                          0                    0   \n",
      "12709  2020    44                          0                    0   \n",
      "12710  2020    44                          0                    0   \n",
      "12711  2020    44                          0                    0   \n",
      "12712  2020    44                          0                    0   \n",
      "\n",
      "       station_Baldwin at Montgomery  station_Bayside Park  \\\n",
      "0                                  0                     0   \n",
      "1                                  1                     0   \n",
      "2                                  0                     1   \n",
      "3                                  0                     0   \n",
      "4                                  0                     0   \n",
      "...                              ...                   ...   \n",
      "12708                              0                     0   \n",
      "12709                              0                     0   \n",
      "12710                              0                     0   \n",
      "12711                              0                     0   \n",
      "12712                              0                     0   \n",
      "\n",
      "       station_Bergen Ave  station_Bethune Center  station_Brunswick & 6th  \\\n",
      "0                       0                       0                        0   \n",
      "1                       0                       0                        0   \n",
      "2                       0                       0                        0   \n",
      "3                       0                       0                        0   \n",
      "4                       0                       0                        0   \n",
      "...                   ...                     ...                      ...   \n",
      "12708                   0                       0                        0   \n",
      "12709                   0                       0                        0   \n",
      "12710                   0                       0                        0   \n",
      "12711                   0                       0                        0   \n",
      "12712                   0                       0                        0   \n",
      "\n",
      "       station_Brunswick St  ...  station_Pershing Field  \\\n",
      "0                         0  ...                       0   \n",
      "1                         0  ...                       0   \n",
      "2                         0  ...                       0   \n",
      "3                         1  ...                       0   \n",
      "4                         0  ...                       0   \n",
      "...                     ...  ...                     ...   \n",
      "12708                     0  ...                       0   \n",
      "12709                     0  ...                       0   \n",
      "12710                     0  ...                       0   \n",
      "12711                     0  ...                       0   \n",
      "12712                     0  ...                       0   \n",
      "\n",
      "       station_Riverview Park  station_Sip Ave  station_Union St  \\\n",
      "0                           0                0                 0   \n",
      "1                           0                0                 0   \n",
      "2                           0                0                 0   \n",
      "3                           0                0                 0   \n",
      "4                           0                0                 0   \n",
      "...                       ...              ...               ...   \n",
      "12708                       0                0                 1   \n",
      "12709                       0                0                 0   \n",
      "12710                       0                0                 0   \n",
      "12711                       0                0                 0   \n",
      "12712                       0                0                 0   \n",
      "\n",
      "       station_Van Vorst Park  station_Warren St  station_Washington St  \\\n",
      "0                           0                  0                      0   \n",
      "1                           0                  0                      0   \n",
      "2                           0                  0                      0   \n",
      "3                           0                  0                      0   \n",
      "4                           0                  0                      0   \n",
      "...                       ...                ...                    ...   \n",
      "12708                       0                  0                      0   \n",
      "12709                       1                  0                      0   \n",
      "12710                       0                  1                      0   \n",
      "12711                       0                  0                      1   \n",
      "12712                       0                  0                      0   \n",
      "\n",
      "       station_West Side Light Rail  station_York St  anzahl  \n",
      "0                                 0                0      43  \n",
      "1                                 0                0      66  \n",
      "2                                 0                0      16  \n",
      "3                                 0                0     186  \n",
      "4                                 0                0      25  \n",
      "...                             ...              ...     ...  \n",
      "12708                             0                0      12  \n",
      "12709                             0                0      68  \n",
      "12710                             0                0     131  \n",
      "12711                             0                0      93  \n",
      "12712                             0                1      28  \n",
      "\n",
      "[12713 rows x 66 columns]\n"
     ]
    }
   ],
   "source": [
    "frame = pd.read_csv(r'weekcount.csv')\n",
    "df = pd.DataFrame(frame)\n",
    "df =pd.get_dummies(df, prefix=['station' ])\n",
    "\n",
    "#reading and dumming datta\n",
    "col = list(df.columns.values)\n",
    "\n",
    "df = df[['year', 'week', 'station_5 Corners Library', 'station_Astor Place', 'station_Baldwin at Montgomery', 'station_Bayside Park', 'station_Bergen Ave', 'station_Bethune Center', 'station_Brunswick & 6th', 'station_Brunswick St', 'station_Central Ave', 'station_Christ Hospital', 'station_City Hall', 'station_Columbia Park', 'station_Columbus Dr at Exchange Pl', 'station_Columbus Drive', 'station_Communipaw & Berry Lane', 'station_Danforth Light Rail', 'station_Dey St', 'station_Dixon Mills', 'station_Essex Light Rail', 'station_Exchange Place', 'station_Fairmount Ave', 'station_Garfield Ave Station', 'station_Glenwood Ave', 'station_Grand St', 'station_Grove St PATH', 'station_Hamilton Park', 'station_Harborside', 'station_Heights Elevator', 'station_Hilltop', 'station_Hoboken Ave at Monmouth St', 'station_JC Medical Center', 'station_JCBS Depot', 'station_Jackson Square', 'station_Jersey & 3rd', 'station_Jersey & 6th St', 'station_Journal Square', 'station_Lafayette Park', 'station_Leonard Gordon Park', 'station_Liberty Light Rail', 'station_Lincoln Park', 'station_MLK Light Rail', 'station_Manila & 1st', 'station_Marin Light Rail', 'station_McGinley Square', 'station_Monmouth and 6th', 'station_Montgomery St', 'station_Morris Canal', 'station_NJCU', 'station_Newark Ave', 'station_Newport PATH', 'station_Newport Pkwy', 'station_North St', 'station_Oakland Ave', 'station_Paulus Hook', 'station_Pershing Field', 'station_Riverview Park', 'station_Sip Ave', 'station_Union St', 'station_Van Vorst Park', 'station_Warren St', 'station_Washington St', 'station_West Side Light Rail', 'station_York St', 'anzahl']]\n",
    "\n",
    "\n",
    "\n",
    "print(col)\n",
    "print(df)"
   ]
  },
  {
   "cell_type": "code",
   "execution_count": 89,
   "metadata": {},
   "outputs": [
    {
     "data": {
      "text/html": [
       "<div>\n",
       "<style scoped>\n",
       "    .dataframe tbody tr th:only-of-type {\n",
       "        vertical-align: middle;\n",
       "    }\n",
       "\n",
       "    .dataframe tbody tr th {\n",
       "        vertical-align: top;\n",
       "    }\n",
       "\n",
       "    .dataframe thead th {\n",
       "        text-align: right;\n",
       "    }\n",
       "</style>\n",
       "<table border=\"1\" class=\"dataframe\">\n",
       "  <thead>\n",
       "    <tr style=\"text-align: right;\">\n",
       "      <th></th>\n",
       "      <th>year</th>\n",
       "      <th>week</th>\n",
       "      <th>sunHour</th>\n",
       "      <th>totalSnow_cm</th>\n",
       "      <th>FeelsLikeC</th>\n",
       "      <th>cloudcover</th>\n",
       "      <th>humidity</th>\n",
       "      <th>precipMM</th>\n",
       "      <th>tempC</th>\n",
       "      <th>windspeedKmph</th>\n",
       "    </tr>\n",
       "  </thead>\n",
       "  <tbody>\n",
       "    <tr>\n",
       "      <th>0</th>\n",
       "      <td>2015</td>\n",
       "      <td>39</td>\n",
       "      <td>10.00</td>\n",
       "      <td>0.0</td>\n",
       "      <td>18.57</td>\n",
       "      <td>37.86</td>\n",
       "      <td>66.00</td>\n",
       "      <td>0.00</td>\n",
       "      <td>21.86</td>\n",
       "      <td>13.57</td>\n",
       "    </tr>\n",
       "    <tr>\n",
       "      <th>1</th>\n",
       "      <td>2015</td>\n",
       "      <td>40</td>\n",
       "      <td>8.57</td>\n",
       "      <td>0.0</td>\n",
       "      <td>14.86</td>\n",
       "      <td>69.29</td>\n",
       "      <td>82.14</td>\n",
       "      <td>4.73</td>\n",
       "      <td>18.14</td>\n",
       "      <td>22.43</td>\n",
       "    </tr>\n",
       "    <tr>\n",
       "      <th>2</th>\n",
       "      <td>2015</td>\n",
       "      <td>41</td>\n",
       "      <td>9.31</td>\n",
       "      <td>0.0</td>\n",
       "      <td>16.29</td>\n",
       "      <td>25.00</td>\n",
       "      <td>71.57</td>\n",
       "      <td>0.71</td>\n",
       "      <td>19.57</td>\n",
       "      <td>11.71</td>\n",
       "    </tr>\n",
       "    <tr>\n",
       "      <th>3</th>\n",
       "      <td>2015</td>\n",
       "      <td>42</td>\n",
       "      <td>8.70</td>\n",
       "      <td>0.0</td>\n",
       "      <td>12.29</td>\n",
       "      <td>17.00</td>\n",
       "      <td>65.57</td>\n",
       "      <td>0.07</td>\n",
       "      <td>16.29</td>\n",
       "      <td>15.71</td>\n",
       "    </tr>\n",
       "    <tr>\n",
       "      <th>4</th>\n",
       "      <td>2015</td>\n",
       "      <td>43</td>\n",
       "      <td>7.81</td>\n",
       "      <td>0.0</td>\n",
       "      <td>12.29</td>\n",
       "      <td>27.29</td>\n",
       "      <td>68.00</td>\n",
       "      <td>0.56</td>\n",
       "      <td>16.57</td>\n",
       "      <td>16.29</td>\n",
       "    </tr>\n",
       "  </tbody>\n",
       "</table>\n",
       "</div>"
      ],
      "text/plain": [
       "   year  week  sunHour  totalSnow_cm  FeelsLikeC  cloudcover  humidity  \\\n",
       "0  2015    39    10.00           0.0       18.57       37.86     66.00   \n",
       "1  2015    40     8.57           0.0       14.86       69.29     82.14   \n",
       "2  2015    41     9.31           0.0       16.29       25.00     71.57   \n",
       "3  2015    42     8.70           0.0       12.29       17.00     65.57   \n",
       "4  2015    43     7.81           0.0       12.29       27.29     68.00   \n",
       "\n",
       "   precipMM  tempC  windspeedKmph  \n",
       "0      0.00  21.86          13.57  \n",
       "1      4.73  18.14          22.43  \n",
       "2      0.71  19.57          11.71  \n",
       "3      0.07  16.29          15.71  \n",
       "4      0.56  16.57          16.29  "
      ]
     },
     "execution_count": 89,
     "metadata": {},
     "output_type": "execute_result"
    }
   ],
   "source": [
    "wframe = pd.read_csv(r'weather.csv')\n",
    "weather = pd.DataFrame(wframe)\n",
    "weather.head()"
   ]
  },
  {
   "cell_type": "code",
   "execution_count": 90,
   "metadata": {},
   "outputs": [
    {
     "name": "stdout",
     "output_type": "stream",
     "text": [
      "Empty DataFrame\n",
      "Columns: [year, week, station_5 Corners Library, station_Astor Place, station_Baldwin at Montgomery, station_Bayside Park, station_Bergen Ave, station_Bethune Center, station_Brunswick & 6th, station_Brunswick St, station_Central Ave, station_Christ Hospital, station_City Hall, station_Columbia Park, station_Columbus Dr at Exchange Pl, station_Columbus Drive, station_Communipaw & Berry Lane, station_Danforth Light Rail, station_Dey St, station_Dixon Mills, station_Essex Light Rail, station_Exchange Place, station_Fairmount Ave, station_Garfield Ave Station, station_Glenwood Ave, station_Grand St, station_Grove St PATH, station_Hamilton Park, station_Harborside, station_Heights Elevator, station_Hilltop, station_Hoboken Ave at Monmouth St, station_JC Medical Center, station_JCBS Depot, station_Jackson Square, station_Jersey & 3rd, station_Jersey & 6th St, station_Journal Square, station_Lafayette Park, station_Leonard Gordon Park, station_Liberty Light Rail, station_Lincoln Park, station_MLK Light Rail, station_Manila & 1st, station_Marin Light Rail, station_McGinley Square, station_Monmouth and 6th, station_Montgomery St, station_Morris Canal, station_NJCU, station_Newark Ave, station_Newport PATH, station_Newport Pkwy, station_North St, station_Oakland Ave, station_Paulus Hook, station_Pershing Field, station_Riverview Park, station_Sip Ave, station_Union St, station_Van Vorst Park, station_Warren St, station_Washington St, station_West Side Light Rail, station_York St, anzahl, sunHour, totalSnow_cm, FeelsLikeC, cloudcover, humidity, precipMM, tempC, windspeedKmph]\n",
      "Index: []\n",
      "\n",
      "[0 rows x 74 columns]\n"
     ]
    }
   ],
   "source": [
    "df = pd.merge(df,weather,on=['year','week'],how='outer').dropna()\n",
    "#df = df.reset_index()\n",
    "print(df[df.index.duplicated()])\n",
    "df = pd.DataFrame(df,columns=['year', 'week', 'station_5 Corners Library', 'station_Astor Place', 'station_Baldwin at Montgomery', 'station_Bayside Park', 'station_Bergen Ave', 'station_Bethune Center', 'station_Brunswick & 6th', 'station_Brunswick St', 'station_Central Ave', 'station_Christ Hospital', 'station_City Hall', 'station_Columbia Park', 'station_Columbus Dr at Exchange Pl', 'station_Columbus Drive', 'station_Communipaw & Berry Lane', 'station_Danforth Light Rail', 'station_Dey St', 'station_Dixon Mills', 'station_Essex Light Rail', 'station_Exchange Place', 'station_Fairmount Ave', 'station_Garfield Ave Station', 'station_Glenwood Ave', 'station_Grand St', 'station_Grove St PATH', 'station_Hamilton Park', 'station_Harborside', 'station_Heights Elevator', 'station_Hilltop', 'station_Hoboken Ave at Monmouth St', 'station_JC Medical Center', 'station_JCBS Depot', 'station_Jackson Square', 'station_Jersey & 3rd', 'station_Jersey & 6th St', 'station_Journal Square', 'station_Lafayette Park', 'station_Leonard Gordon Park', 'station_Liberty Light Rail', 'station_Lincoln Park', 'station_MLK Light Rail', 'station_Manila & 1st', 'station_Marin Light Rail', 'station_McGinley Square', 'station_Monmouth and 6th', 'station_Montgomery St', 'station_Morris Canal', 'station_NJCU', 'station_Newark Ave', 'station_Newport PATH', 'station_Newport Pkwy', 'station_North St', 'station_Oakland Ave', 'station_Paulus Hook', 'station_Pershing Field', 'station_Riverview Park', 'station_Sip Ave', 'station_Union St', 'station_Van Vorst Park', 'station_Warren St', 'station_Washington St', 'station_West Side Light Rail', 'station_York St','sunHour','totalSnow_cm','FeelsLikeC','cloudcover','humidity','precipMM','tempC','windspeedKmph', 'anzahl'])\n",
    "df.drop(df[df['year'] == 2020].index, inplace = True) #'REMOVE2020'\n",
    "df.drop(df[df['year'] == 2015].index, inplace = True) #remove 2015\n",
    "df.drop(df[df['year'] == 2019].index, inplace = True) #'REMOVE2020'"
   ]
  },
  {
   "cell_type": "code",
   "execution_count": 59,
   "metadata": {},
   "outputs": [],
   "source": [
    "df.to_csv('kitrainweathe.csv',index=False)"
   ]
  },
  {
   "cell_type": "code",
   "execution_count": null,
   "metadata": {},
   "outputs": [],
   "source": []
  },
  {
   "cell_type": "code",
   "execution_count": 91,
   "metadata": {},
   "outputs": [
    {
     "name": "stdout",
     "output_type": "stream",
     "text": [
      "[2016.      1.      0.      0.      0.      0.      0.      0.      0.\n",
      "    0.      0.      0.      0.      0.      0.      0.      0.      0.\n",
      "    0.      0.      0.      0.      0.      0.      0.      0.      0.\n",
      "    0.      0.      0.      0.      0.      0.      0.      0.      0.\n",
      "    0.      0.      0.      0.      0.      0.      0.      0.      0.\n",
      "    0.      0.      0.      0.      0.      1.      0.      0.      0.\n",
      "    0.      0.      0.      0.      0.      0.      0.      0.      0.\n",
      "    0.      0.      6.71    0.09   -0.57   43.     63.29    2.1     5.\n",
      "   15.71]\n",
      "[121.]\n",
      "[[2016.      1.      1.   ...    2.1     5.     15.71]\n",
      " [2016.      1.      0.   ...    2.1     5.     15.71]\n",
      " [2016.      1.      0.   ...    2.1     5.     15.71]\n",
      " ...\n",
      " [2018.     52.      0.   ...    2.03    6.71   13.29]\n",
      " [2018.     52.      0.   ...    2.03    6.71   13.29]\n",
      " [2018.     52.      0.   ...    2.03    6.71   13.29]]\n",
      "[[36.]\n",
      " [31.]\n",
      " [ 4.]\n",
      " ...\n",
      " [64.]\n",
      " [61.]\n",
      " [34.]]\n"
     ]
    }
   ],
   "source": [
    "x = df.iloc[:,0:-1].values\n",
    "y = df.iloc[:,73:74].values\n",
    "np.set_printoptions(suppress=True)\n",
    "print(x[21])\n",
    "print(y[21])\n",
    "print(x)\n",
    "print(y)"
   ]
  },
  {
   "cell_type": "code",
   "execution_count": 92,
   "metadata": {},
   "outputs": [],
   "source": [
    "from sklearn.preprocessing import StandardScaler\n",
    "x_scaler = StandardScaler()\n",
    "y_scaler = StandardScaler()\n",
    "# Fit train data \n",
    "x_scaler.fit(x)\n",
    "y_scaler.fit(y)\n",
    "x = x_scaler.transform(x)\n",
    "y = y_scaler.transform(y)"
   ]
  },
  {
   "cell_type": "code",
   "execution_count": 93,
   "metadata": {},
   "outputs": [
    {
     "name": "stdout",
     "output_type": "stream",
     "text": [
      "(5847, 73)\n",
      "(1462, 1)\n"
     ]
    }
   ],
   "source": [
    "split_horizontally_idx = int(x.shape[0]* 0.8)\n",
    "x_train = x[:split_horizontally_idx , :]\n",
    "x_test = x[split_horizontally_idx: , :]\n",
    "y_train = y[:split_horizontally_idx , :]\n",
    "y_test = y[split_horizontally_idx: , :]\n",
    "print(x_train.shape); print(y_test.shape)"
   ]
  },
  {
   "cell_type": "code",
   "execution_count": 10,
   "metadata": {},
   "outputs": [],
   "source": [
    "with tf.device('/device:GPU:0'):\n",
    "    model = keras.models.load_model('kimodelweather')"
   ]
  },
  {
   "cell_type": "code",
   "execution_count": 112,
   "metadata": {},
   "outputs": [],
   "source": [
    "from tensorflow.keras.models import Sequential\n",
    "from tensorflow.keras.layers import Dense\n",
    "from tensorflow.keras.optimizers import Adam\n",
    "from tensorflow.keras.layers import Dropout\n",
    "from tensorflow.keras.layers import Layer\n",
    "\n",
    "model = keras.models.Sequential()\n",
    " \n",
    "    \n",
    "model.add(keras.layers.Dense(73, kernel_initializer='normal',  activation='relu', input_shape=(73,) ))\n",
    "model.add(Dense(73, kernel_initializer='normal',activation='relu'))\n",
    "model.add(Dense(73, kernel_initializer='normal',activation='relu'))\n",
    "model.add(Dense(73, kernel_initializer='normal',activation='relu'))\n",
    "model.add(Dense(73, kernel_initializer='normal',activation='relu'))\n",
    "model.add(Dense(73, kernel_initializer='normal',activation='relu'))\n",
    "model.add(Dense(73, kernel_initializer='normal',activation='relu'))\n",
    "model.add(Dense(73, kernel_initializer='normal',activation='relu'))\n",
    "model.add(Dense(73, kernel_initializer='normal',activation='relu'))\n",
    "model.add(Dense(73, kernel_initializer='normal',activation='relu'))\n",
    "model.add(Dense(1, kernel_initializer='normal',activation='linear'))\n",
    "model.add(Dense(1))\n",
    "\n"
   ]
  },
  {
   "cell_type": "code",
   "execution_count": 113,
   "metadata": {},
   "outputs": [],
   "source": [
    "#0.0001\n",
    "model.compile(optimizer=tf.keras.optimizers.Adam(lr=0.0001), loss='mape', metrics=['mae'])"
   ]
  },
  {
   "cell_type": "code",
   "execution_count": 114,
   "metadata": {},
   "outputs": [
    {
     "name": "stdout",
     "output_type": "stream",
     "text": [
      "<function device_v2 at 0x00000218913A40D0>\n",
      "Epoch 1/55\n",
      "585/585 [==============================] - 5s 7ms/step - loss: 99.8577 - mae: 0.6715\n",
      "Epoch 2/55\n",
      "585/585 [==============================] - 4s 7ms/step - loss: 99.6279 - mae: 0.6703\n",
      "Epoch 3/55\n",
      "585/585 [==============================] - 4s 7ms/step - loss: 96.8698 - mae: 0.6456\n",
      "Epoch 4/55\n",
      "585/585 [==============================] - 4s 7ms/step - loss: 68.5963 - mae: 0.4345\n",
      "Epoch 5/55\n",
      "585/585 [==============================] - 4s 7ms/step - loss: 58.3640 - mae: 0.3779\n",
      "Epoch 6/55\n",
      "585/585 [==============================] - 4s 7ms/step - loss: 55.8606 - mae: 0.3697\n",
      "Epoch 7/55\n",
      "585/585 [==============================] - 4s 7ms/step - loss: 54.9877 - mae: 0.3649\n",
      "Epoch 8/55\n",
      "585/585 [==============================] - 4s 7ms/step - loss: 54.2793 - mae: 0.3620\n",
      "Epoch 9/55\n",
      "585/585 [==============================] - 4s 7ms/step - loss: 53.6252 - mae: 0.3603\n",
      "Epoch 10/55\n",
      "585/585 [==============================] - 4s 7ms/step - loss: 53.4617 - mae: 0.3583\n",
      "Epoch 11/55\n",
      "585/585 [==============================] - 4s 7ms/step - loss: 52.9161 - mae: 0.3553\n",
      "Epoch 12/55\n",
      "585/585 [==============================] - 4s 7ms/step - loss: 52.2547 - mae: 0.3539\n",
      "Epoch 13/55\n",
      "585/585 [==============================] - 4s 7ms/step - loss: 53.1432 - mae: 0.3557\n",
      "Epoch 14/55\n",
      "585/585 [==============================] - 4s 7ms/step - loss: 52.3944 - mae: 0.3534\n",
      "Epoch 15/55\n",
      "585/585 [==============================] - 4s 7ms/step - loss: 52.1676 - mae: 0.3547\n",
      "Epoch 16/55\n",
      "585/585 [==============================] - 4s 7ms/step - loss: 52.3223 - mae: 0.3528\n",
      "Epoch 17/55\n",
      "585/585 [==============================] - 4s 7ms/step - loss: 52.8543 - mae: 0.3518\n",
      "Epoch 18/55\n",
      "585/585 [==============================] - 4s 7ms/step - loss: 51.7807 - mae: 0.3532\n",
      "Epoch 19/55\n",
      "585/585 [==============================] - 4s 7ms/step - loss: 51.3900 - mae: 0.3493\n",
      "Epoch 20/55\n",
      "585/585 [==============================] - 4s 7ms/step - loss: 51.0160 - mae: 0.3492\n",
      "Epoch 21/55\n",
      "585/585 [==============================] - 4s 7ms/step - loss: 51.3204 - mae: 0.3495\n",
      "Epoch 22/55\n",
      "585/585 [==============================] - 4s 7ms/step - loss: 50.8567 - mae: 0.3475\n",
      "Epoch 23/55\n",
      "585/585 [==============================] - 4s 7ms/step - loss: 50.7537 - mae: 0.3476\n",
      "Epoch 24/55\n",
      "585/585 [==============================] - 4s 7ms/step - loss: 50.9968 - mae: 0.3480\n",
      "Epoch 25/55\n",
      "585/585 [==============================] - 4s 7ms/step - loss: 50.4078 - mae: 0.3456\n",
      "Epoch 26/55\n",
      "585/585 [==============================] - 4s 7ms/step - loss: 50.3927 - mae: 0.3444\n",
      "Epoch 27/55\n",
      "585/585 [==============================] - 4s 7ms/step - loss: 51.1876 - mae: 0.3446\n",
      "Epoch 28/55\n",
      "585/585 [==============================] - 4s 7ms/step - loss: 49.5254 - mae: 0.3414\n",
      "Epoch 29/55\n",
      "585/585 [==============================] - 4s 7ms/step - loss: 50.7290 - mae: 0.3420\n",
      "Epoch 30/55\n",
      "585/585 [==============================] - 4s 7ms/step - loss: 49.4691 - mae: 0.3402\n",
      "Epoch 31/55\n",
      "585/585 [==============================] - 4s 7ms/step - loss: 49.7538 - mae: 0.3393\n",
      "Epoch 32/55\n",
      "585/585 [==============================] - 4s 7ms/step - loss: 48.8118 - mae: 0.3332\n",
      "Epoch 33/55\n",
      "585/585 [==============================] - 4s 7ms/step - loss: 48.7358 - mae: 0.3313\n",
      "Epoch 34/55\n",
      "585/585 [==============================] - 4s 7ms/step - loss: 48.4480 - mae: 0.3207\n",
      "Epoch 35/55\n",
      "585/585 [==============================] - 4s 7ms/step - loss: 47.6259 - mae: 0.3039\n",
      "Epoch 36/55\n",
      "585/585 [==============================] - 4s 7ms/step - loss: 46.3136 - mae: 0.2733\n",
      "Epoch 37/55\n",
      "585/585 [==============================] - 4s 7ms/step - loss: 42.9012 - mae: 0.2456\n",
      "Epoch 38/55\n",
      "585/585 [==============================] - 4s 7ms/step - loss: 39.0058 - mae: 0.2175\n",
      "Epoch 39/55\n",
      "585/585 [==============================] - 4s 7ms/step - loss: 38.2344 - mae: 0.2076\n",
      "Epoch 40/55\n",
      "585/585 [==============================] - 4s 7ms/step - loss: 36.9679 - mae: 0.1979\n",
      "Epoch 41/55\n",
      "585/585 [==============================] - 4s 7ms/step - loss: 36.6792 - mae: 0.1949\n",
      "Epoch 42/55\n",
      "585/585 [==============================] - 4s 7ms/step - loss: 35.7725 - mae: 0.1898\n",
      "Epoch 43/55\n",
      "585/585 [==============================] - 4s 7ms/step - loss: 34.8399 - mae: 0.1813\n",
      "Epoch 44/55\n",
      "585/585 [==============================] - 4s 7ms/step - loss: 33.8696 - mae: 0.1744\n",
      "Epoch 45/55\n",
      "585/585 [==============================] - 4s 7ms/step - loss: 34.2263 - mae: 0.1749\n",
      "Epoch 46/55\n",
      "585/585 [==============================] - 4s 7ms/step - loss: 34.2834 - mae: 0.1742\n",
      "Epoch 47/55\n",
      "585/585 [==============================] - 4s 7ms/step - loss: 33.1575 - mae: 0.1647\n",
      "Epoch 48/55\n",
      "585/585 [==============================] - 4s 7ms/step - loss: 34.6052 - mae: 0.1691\n",
      "Epoch 49/55\n",
      "585/585 [==============================] - 4s 7ms/step - loss: 34.5504 - mae: 0.1704\n",
      "Epoch 50/55\n",
      "585/585 [==============================] - 4s 7ms/step - loss: 32.8460 - mae: 0.1593\n",
      "Epoch 51/55\n",
      "585/585 [==============================] - 4s 7ms/step - loss: 33.2445 - mae: 0.1571\n",
      "Epoch 52/55\n",
      "585/585 [==============================] - 4s 7ms/step - loss: 32.4528 - mae: 0.1544\n",
      "Epoch 53/55\n",
      "585/585 [==============================] - 4s 7ms/step - loss: 32.5468 - mae: 0.1534\n",
      "Epoch 54/55\n",
      "585/585 [==============================] - 4s 7ms/step - loss: 32.5867 - mae: 0.1529\n",
      "Epoch 55/55\n",
      "585/585 [==============================] - 4s 7ms/step - loss: 31.5735 - mae: 0.1457\n"
     ]
    }
   ],
   "source": [
    "with tf.device('/device:GPU:0'):\n",
    "    print(tf.device)\n",
    "    model.fit(x_train, y_train, epochs=55 , batch_size=10,shuffle=False)"
   ]
  },
  {
   "cell_type": "code",
   "execution_count": 111,
   "metadata": {},
   "outputs": [
    {
     "name": "stdout",
     "output_type": "stream",
     "text": [
      "46/46 [==============================] - 0s 4ms/step - loss: 106.0102 - mae: 0.2161\n",
      "test loss, test acc: [106.01017761230469, 0.21610377728939056]\n"
     ]
    }
   ],
   "source": [
    "with tf.device('/device:CPU:0'):\n",
    "    results = model.evaluate(x_test, y_test )\n",
    "print(\"test loss, test acc:\", results)"
   ]
  },
  {
   "cell_type": "code",
   "execution_count": 98,
   "metadata": {},
   "outputs": [
    {
     "name": "stdout",
     "output_type": "stream",
     "text": [
      "[-1.33228663 -1.74405429 -0.14816174 -0.12587429 -0.14816174 -0.11777754\n",
      " -0.07229275 -0.08382559 -0.12587429 -0.14816174 -0.10782531 -0.14816174\n",
      " -0.14816174 -0.12014333  0.         -0.13297781 -0.12418112 -0.09904211\n",
      " -0.14816174 -0.13297781 -0.14816174 -0.14816174 -0.07324283 -0.1302885\n",
      " -0.07324283 -0.07229275 -0.14816174 -0.14816174 -0.09472562 -0.14816174\n",
      " -0.14816174  0.         -0.14816174 -0.05618486 -0.05974912 -0.13350961\n",
      " -0.13350961 -0.09472562 -0.13350961 -0.13297781 -0.14816174 -0.14816174\n",
      " -0.12418112 -0.13297781 -0.13297781 -0.14816174 -0.13297781 -0.07133028\n",
      " -0.13350961 -0.12643395  6.74938072 -0.14816174 -0.14816174 -0.10717415\n",
      " -0.14816174 -0.14816174 -0.14816174 -0.14816174 -0.14816174 -0.14622127\n",
      " -0.14816174 -0.14816174 -0.09472562 -0.1247479  -0.10044126 -1.10151446\n",
      "  0.13032234 -1.11347175  0.13536408 -0.87590276 -0.01492566 -1.13447864\n",
      "  0.44580243]\n",
      "[[122.44201]]\n",
      "[121.]\n"
     ]
    }
   ],
   "source": [
    "test_data = x_train[21]\n",
    "print (test_data)\n",
    "with tf.device('/device:CPU:0'):\n",
    "    print(y_scaler.inverse_transform(model.predict(test_data.reshape(1,73), batch_size=1)))\n",
    "print(y_scaler.inverse_transform(y_train[21]))"
   ]
  },
  {
   "cell_type": "code",
   "execution_count": 99,
   "metadata": {},
   "outputs": [
    {
     "name": "stdout",
     "output_type": "stream",
     "text": [
      "Generate predictions for 3 samples\n",
      "[[-1.33228663 -1.74405429  6.74938072 ... -0.01492566 -1.13447864\n",
      "   0.44580243]\n",
      " [-1.33228663 -1.74405429 -0.14816174 ... -0.01492566 -1.13447864\n",
      "   0.44580243]\n",
      " [-1.33228663 -1.74405429 -0.14816174 ... -0.01492566 -1.13447864\n",
      "   0.44580243]\n",
      " ...\n",
      " [ 1.16040068 -0.28589523 -0.14816174 ... -0.69272425  0.67014905\n",
      "  -1.68792402]\n",
      " [ 1.16040068 -0.28589523 -0.14816174 ... -0.69272425  0.67014905\n",
      "  -1.68792402]\n",
      " [ 1.16040068 -0.28589523 -0.14816174 ... -0.69272425  0.67014905\n",
      "  -1.68792402]]\n",
      "predictions shape: [[ 39.049343 ]\n",
      " [ 40.23199  ]\n",
      " [ -1.0404701]\n",
      " ...\n",
      " [244.44823  ]\n",
      " [123.723465 ]\n",
      " [ 64.80662  ]]\n",
      "[[ 36.]\n",
      " [ 31.]\n",
      " [  4.]\n",
      " ...\n",
      " [255.]\n",
      " [124.]\n",
      " [ 68.]]\n"
     ]
    }
   ],
   "source": [
    "print(\"Generate predictions for 3 samples\")\n",
    "print(x_train)\n",
    "with tf.device('/device:CPU:0'):\n",
    "    predictions = model.predict(x_train)\n",
    "print(\"predictions shape:\",y_scaler.inverse_transform( predictions))\n",
    "print(y_scaler.inverse_transform(y_train))"
   ]
  },
  {
   "cell_type": "code",
   "execution_count": 103,
   "metadata": {},
   "outputs": [
    {
     "name": "stdout",
     "output_type": "stream",
     "text": [
      "Generate predictions for 3 samples\n",
      "[[2018.     23.      0.   ...    0.9    22.      8.29]\n",
      " [2018.     23.      0.   ...    0.9    22.      8.29]\n",
      " [2018.     23.      0.   ...    0.9    22.      8.29]\n",
      " ...\n",
      " [2018.     52.      0.   ...    2.03    6.71   13.29]\n",
      " [2018.     52.      0.   ...    2.03    6.71   13.29]\n",
      " [2018.     52.      0.   ...    2.03    6.71   13.29]]\n",
      "predictions shape: [[404.9734  ]\n",
      " [ 25.71597 ]\n",
      " [236.9384  ]\n",
      " ...\n",
      " [112.08199 ]\n",
      " [ 82.79042 ]\n",
      " [ 49.065746]]\n",
      "[[462.]\n",
      " [ 21.]\n",
      " [271.]\n",
      " ...\n",
      " [ 64.]\n",
      " [ 61.]\n",
      " [ 34.]]\n"
     ]
    }
   ],
   "source": [
    "print(\"Generate predictions for 3 samples\")\n",
    "print(x_scaler.inverse_transform(x_test))\n",
    "with tf.device('/device:CPU:0'):\n",
    "    predictions = model.predict(x_test)\n",
    "print(\"predictions shape:\",y_scaler.inverse_transform( predictions))\n",
    "print(y_scaler.inverse_transform(y_test))"
   ]
  },
  {
   "cell_type": "code",
   "execution_count": 227,
   "metadata": {},
   "outputs": [
    {
     "name": "stdout",
     "output_type": "stream",
     "text": [
      "INFO:tensorflow:Assets written to: kimodelweather\\assets\n"
     ]
    }
   ],
   "source": [
    "#save model\n",
    "model.save('kimodelweather')"
   ]
  },
  {
   "cell_type": "code",
   "execution_count": 100,
   "metadata": {},
   "outputs": [],
   "source": [
    "x = np.arange(y_train.shape[0]).reshape( y_train.shape[0])\n",
    "y = y_train.reshape(  y_train.shape[0])\n",
    "y2 =  predictions.reshape(  y_train.shape[0])"
   ]
  },
  {
   "cell_type": "code",
   "execution_count": 105,
   "metadata": {},
   "outputs": [],
   "source": [
    "x = np.arange(y_test.shape[0]).reshape( y_test.shape[0])\n",
    "y = y_test.reshape(  y_test.shape[0])\n",
    "y2 =  predictions.reshape(  y_test.shape[0])"
   ]
  },
  {
   "cell_type": "code",
   "execution_count": 106,
   "metadata": {},
   "outputs": [
    {
     "data": {
      "text/html": [
       "<div>\n",
       "<style scoped>\n",
       "    .dataframe tbody tr th:only-of-type {\n",
       "        vertical-align: middle;\n",
       "    }\n",
       "\n",
       "    .dataframe tbody tr th {\n",
       "        vertical-align: top;\n",
       "    }\n",
       "\n",
       "    .dataframe thead th {\n",
       "        text-align: right;\n",
       "    }\n",
       "</style>\n",
       "<table border=\"1\" class=\"dataframe\">\n",
       "  <thead>\n",
       "    <tr style=\"text-align: right;\">\n",
       "      <th></th>\n",
       "      <th>index</th>\n",
       "      <th>y</th>\n",
       "      <th>y2</th>\n",
       "    </tr>\n",
       "  </thead>\n",
       "  <tbody>\n",
       "    <tr>\n",
       "      <th>0</th>\n",
       "      <td>627</td>\n",
       "      <td>-0.869955</td>\n",
       "      <td>-0.867253</td>\n",
       "    </tr>\n",
       "    <tr>\n",
       "      <th>1</th>\n",
       "      <td>678</td>\n",
       "      <td>-0.869955</td>\n",
       "      <td>-0.860014</td>\n",
       "    </tr>\n",
       "    <tr>\n",
       "      <th>2</th>\n",
       "      <td>1080</td>\n",
       "      <td>-0.869955</td>\n",
       "      <td>-0.986931</td>\n",
       "    </tr>\n",
       "    <tr>\n",
       "      <th>3</th>\n",
       "      <td>526</td>\n",
       "      <td>-0.869955</td>\n",
       "      <td>-0.872192</td>\n",
       "    </tr>\n",
       "    <tr>\n",
       "      <th>4</th>\n",
       "      <td>979</td>\n",
       "      <td>-0.862803</td>\n",
       "      <td>-0.996683</td>\n",
       "    </tr>\n",
       "  </tbody>\n",
       "</table>\n",
       "</div>"
      ],
      "text/plain": [
       "   index         y        y2\n",
       "0    627 -0.869955 -0.867253\n",
       "1    678 -0.869955 -0.860014\n",
       "2   1080 -0.869955 -0.986931\n",
       "3    526 -0.869955 -0.872192\n",
       "4    979 -0.862803 -0.996683"
      ]
     },
     "execution_count": 106,
     "metadata": {},
     "output_type": "execute_result"
    }
   ],
   "source": [
    "test = pd.DataFrame({ 'y':y ,'y2':y2})\n",
    "test = test.sort_values(by=['y'])\n",
    "test = test.reset_index()\n",
    "test.head()"
   ]
  },
  {
   "cell_type": "code",
   "execution_count": 102,
   "metadata": {},
   "outputs": [
    {
     "data": {
      "text/plain": [
       "[<matplotlib.lines.Line2D at 0x21a5a9bfee0>,\n",
       " <matplotlib.lines.Line2D at 0x21a5a9bf6d0>]"
      ]
     },
     "execution_count": 102,
     "metadata": {},
     "output_type": "execute_result"
    },
    {
     "data": {
      "image/png": "[encoded data removed]",
      "text/plain": [
       "<Figure size 432x288 with 1 Axes>"
      ]
     },
     "metadata": {
      "needs_background": "light"
     },
     "output_type": "display_data"
    }
   ],
   "source": [
    "plt.plot(x,test['y2'] ,x,test['y'] )"
   ]
  },
  {
   "cell_type": "code",
   "execution_count": 107,
   "metadata": {},
   "outputs": [
    {
     "data": {
      "text/plain": [
       "[<matplotlib.lines.Line2D at 0x218bbcd3b80>,\n",
       " <matplotlib.lines.Line2D at 0x218bbcd3d00>]"
      ]
     },
     "execution_count": 107,
     "metadata": {},
     "output_type": "execute_result"
    },
    {
     "data": {
      "image/png": "[encoded data removed]",
      "text/plain": [
       "<Figure size 432x288 with 1 Axes>"
      ]
     },
     "metadata": {
      "needs_background": "light"
     },
     "output_type": "display_data"
    }
   ],
   "source": [
    "plt.plot(x,test['y2'] ,x,test['y'] )"
   ]
  },
  {
   "cell_type": "code",
   "execution_count": null,
   "metadata": {},
   "outputs": [],
   "source": []
  }
 ],
 "metadata": {
  "kernelspec": {
   "display_name": "Python 3",
   "language": "python",
   "name": "python3"
  },
  "language_info": {
   "codemirror_mode": {
    "name": "ipython",
    "version": 3
   },
   "file_extension": ".py",
   "mimetype": "text/x-python",
   "name": "python",
   "nbconvert_exporter": "python",
   "pygments_lexer": "ipython3",
   "version": "3.8.5"
  }
 },
 "nbformat": 4,
 "nbformat_minor": 4
}
