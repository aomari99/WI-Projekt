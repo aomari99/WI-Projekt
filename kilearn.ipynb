{
 "cells": [
  {
   "cell_type": "code",
   "execution_count": 1,
   "metadata": {},
   "outputs": [],
   "source": [
    "import pandas as pd\n",
    "import numpy as np\n",
    "import matplotlib.pyplot as plt\n",
    "import tensorflow.keras as keras\n",
    "import tensorflow  as tf"
   ]
  },
  {
   "cell_type": "code",
   "execution_count": 2,
   "metadata": {},
   "outputs": [
    {
     "name": "stdout",
     "output_type": "stream",
     "text": [
      "['year', 'week', 'anzahl', 'station_5 Corners Library', 'station_Astor Place', 'station_Baldwin at Montgomery', 'station_Bayside Park', 'station_Bergen Ave', 'station_Bethune Center', 'station_Brunswick & 6th', 'station_Brunswick St', 'station_Central Ave', 'station_Christ Hospital', 'station_City Hall', 'station_Columbia Park', 'station_Columbus Dr at Exchange Pl', 'station_Columbus Drive', 'station_Communipaw & Berry Lane', 'station_Danforth Light Rail', 'station_Dey St', 'station_Dixon Mills', 'station_Essex Light Rail', 'station_Exchange Place', 'station_Fairmount Ave', 'station_Garfield Ave Station', 'station_Glenwood Ave', 'station_Grand St', 'station_Grove St PATH', 'station_Hamilton Park', 'station_Harborside', 'station_Heights Elevator', 'station_Hilltop', 'station_Hoboken Ave at Monmouth St', 'station_JC Medical Center', 'station_JCBS Depot', 'station_Jackson Square', 'station_Jersey & 3rd', 'station_Jersey & 6th St', 'station_Journal Square', 'station_Lafayette Park', 'station_Leonard Gordon Park', 'station_Liberty Light Rail', 'station_Lincoln Park', 'station_MLK Light Rail', 'station_Manila & 1st', 'station_Marin Light Rail', 'station_McGinley Square', 'station_Monmouth and 6th', 'station_Montgomery St', 'station_Morris Canal', 'station_NJCU', 'station_Newark Ave', 'station_Newport PATH', 'station_Newport Pkwy', 'station_North St', 'station_Oakland Ave', 'station_Paulus Hook', 'station_Pershing Field', 'station_Riverview Park', 'station_Sip Ave', 'station_Union St', 'station_Van Vorst Park', 'station_Warren St', 'station_Washington St', 'station_West Side Light Rail', 'station_York St']\n",
      "       year  week  station_5 Corners Library  station_Astor Place  \\\n",
      "0      2015    39                          1                    0   \n",
      "1      2015    39                          0                    0   \n",
      "2      2015    39                          0                    0   \n",
      "3      2015    39                          0                    0   \n",
      "4      2015    39                          0                    0   \n",
      "...     ...   ...                        ...                  ...   \n",
      "12708  2020    44                          0                    0   \n",
      "12709  2020    44                          0                    0   \n",
      "12710  2020    44                          0                    0   \n",
      "12711  2020    44                          0                    0   \n",
      "12712  2020    44                          0                    0   \n",
      "\n",
      "       station_Baldwin at Montgomery  station_Bayside Park  \\\n",
      "0                                  0                     0   \n",
      "1                                  1                     0   \n",
      "2                                  0                     1   \n",
      "3                                  0                     0   \n",
      "4                                  0                     0   \n",
      "...                              ...                   ...   \n",
      "12708                              0                     0   \n",
      "12709                              0                     0   \n",
      "12710                              0                     0   \n",
      "12711                              0                     0   \n",
      "12712                              0                     0   \n",
      "\n",
      "       station_Bergen Ave  station_Bethune Center  station_Brunswick & 6th  \\\n",
      "0                       0                       0                        0   \n",
      "1                       0                       0                        0   \n",
      "2                       0                       0                        0   \n",
      "3                       0                       0                        0   \n",
      "4                       0                       0                        0   \n",
      "...                   ...                     ...                      ...   \n",
      "12708                   0                       0                        0   \n",
      "12709                   0                       0                        0   \n",
      "12710                   0                       0                        0   \n",
      "12711                   0                       0                        0   \n",
      "12712                   0                       0                        0   \n",
      "\n",
      "       station_Brunswick St  ...  station_Pershing Field  \\\n",
      "0                         0  ...                       0   \n",
      "1                         0  ...                       0   \n",
      "2                         0  ...                       0   \n",
      "3                         1  ...                       0   \n",
      "4                         0  ...                       0   \n",
      "...                     ...  ...                     ...   \n",
      "12708                     0  ...                       0   \n",
      "12709                     0  ...                       0   \n",
      "12710                     0  ...                       0   \n",
      "12711                     0  ...                       0   \n",
      "12712                     0  ...                       0   \n",
      "\n",
      "       station_Riverview Park  station_Sip Ave  station_Union St  \\\n",
      "0                           0                0                 0   \n",
      "1                           0                0                 0   \n",
      "2                           0                0                 0   \n",
      "3                           0                0                 0   \n",
      "4                           0                0                 0   \n",
      "...                       ...              ...               ...   \n",
      "12708                       0                0                 1   \n",
      "12709                       0                0                 0   \n",
      "12710                       0                0                 0   \n",
      "12711                       0                0                 0   \n",
      "12712                       0                0                 0   \n",
      "\n",
      "       station_Van Vorst Park  station_Warren St  station_Washington St  \\\n",
      "0                           0                  0                      0   \n",
      "1                           0                  0                      0   \n",
      "2                           0                  0                      0   \n",
      "3                           0                  0                      0   \n",
      "4                           0                  0                      0   \n",
      "...                       ...                ...                    ...   \n",
      "12708                       0                  0                      0   \n",
      "12709                       1                  0                      0   \n",
      "12710                       0                  1                      0   \n",
      "12711                       0                  0                      1   \n",
      "12712                       0                  0                      0   \n",
      "\n",
      "       station_West Side Light Rail  station_York St  anzahl  \n",
      "0                                 0                0      43  \n",
      "1                                 0                0      66  \n",
      "2                                 0                0      16  \n",
      "3                                 0                0     186  \n",
      "4                                 0                0      25  \n",
      "...                             ...              ...     ...  \n",
      "12708                             0                0      12  \n",
      "12709                             0                0      68  \n",
      "12710                             0                0     131  \n",
      "12711                             0                0      93  \n",
      "12712                             0                1      28  \n",
      "\n",
      "[12713 rows x 66 columns]\n"
     ]
    }
   ],
   "source": [
    "frame = pd.read_csv(r'weekcount.csv')\n",
    "df = pd.DataFrame(frame)\n",
    "df =pd.get_dummies(df, prefix=['station' ])\n",
    "\n",
    "#reading and dumming datta\n",
    "col = list(df.columns.values)\n",
    "\n",
    "df = df[['year', 'week', 'station_5 Corners Library', 'station_Astor Place', 'station_Baldwin at Montgomery', 'station_Bayside Park', 'station_Bergen Ave', 'station_Bethune Center', 'station_Brunswick & 6th', 'station_Brunswick St', 'station_Central Ave', 'station_Christ Hospital', 'station_City Hall', 'station_Columbia Park', 'station_Columbus Dr at Exchange Pl', 'station_Columbus Drive', 'station_Communipaw & Berry Lane', 'station_Danforth Light Rail', 'station_Dey St', 'station_Dixon Mills', 'station_Essex Light Rail', 'station_Exchange Place', 'station_Fairmount Ave', 'station_Garfield Ave Station', 'station_Glenwood Ave', 'station_Grand St', 'station_Grove St PATH', 'station_Hamilton Park', 'station_Harborside', 'station_Heights Elevator', 'station_Hilltop', 'station_Hoboken Ave at Monmouth St', 'station_JC Medical Center', 'station_JCBS Depot', 'station_Jackson Square', 'station_Jersey & 3rd', 'station_Jersey & 6th St', 'station_Journal Square', 'station_Lafayette Park', 'station_Leonard Gordon Park', 'station_Liberty Light Rail', 'station_Lincoln Park', 'station_MLK Light Rail', 'station_Manila & 1st', 'station_Marin Light Rail', 'station_McGinley Square', 'station_Monmouth and 6th', 'station_Montgomery St', 'station_Morris Canal', 'station_NJCU', 'station_Newark Ave', 'station_Newport PATH', 'station_Newport Pkwy', 'station_North St', 'station_Oakland Ave', 'station_Paulus Hook', 'station_Pershing Field', 'station_Riverview Park', 'station_Sip Ave', 'station_Union St', 'station_Van Vorst Park', 'station_Warren St', 'station_Washington St', 'station_West Side Light Rail', 'station_York St', 'anzahl']]\n",
    "\n",
    "print(col)\n",
    "print(df)\n"
   ]
  },
  {
   "cell_type": "code",
   "execution_count": 4,
   "metadata": {},
   "outputs": [
    {
     "data": {
      "text/plain": [
       "count    12713.000000\n",
       "mean       130.422953\n",
       "std        142.650437\n",
       "min          1.000000\n",
       "25%         39.000000\n",
       "50%         88.000000\n",
       "75%        175.000000\n",
       "max       1407.000000\n",
       "Name: anzahl, dtype: float64"
      ]
     },
     "execution_count": 4,
     "metadata": {},
     "output_type": "execute_result"
    }
   ],
   "source": [
    "df['anzahl'].describe()"
   ]
  },
  {
   "cell_type": "code",
   "execution_count": 8,
   "metadata": {},
   "outputs": [
    {
     "name": "stdout",
     "output_type": "stream",
     "text": [
      "2.4.0\n",
      "['/device:CPU:0', '/device:GPU:0']\n"
     ]
    }
   ],
   "source": [
    "print(tf.__version__)\n",
    "from tensorflow.python.client import device_lib\n",
    "def get_available_devices():\n",
    "    local_device_protos = device_lib.list_local_devices()\n",
    "    return [x.name for x in local_device_protos]\n",
    "print(get_available_devices()) \n",
    "config = tf.compat.v1.ConfigProto()\n",
    "config.gpu_options.allow_growth = True\n",
    "config.gpu_options.per_process_gpu_memory_fraction = 0.95"
   ]
  },
  {
   "cell_type": "code",
   "execution_count": 3,
   "metadata": {},
   "outputs": [],
   "source": [
    "#loadmodel\n",
    "with tf.device('/device:GPU:0'):\n",
    "    model = keras.models.load_model('kimodel')"
   ]
  },
  {
   "cell_type": "code",
   "execution_count": 4,
   "metadata": {},
   "outputs": [
    {
     "name": "stdout",
     "output_type": "stream",
     "text": [
      "[[2015   39    1 ...    0    0    0]\n",
      " [2015   39    0 ...    0    0    0]\n",
      " [2015   39    0 ...    0    0    0]\n",
      " ...\n",
      " [2020   44    0 ...    0    0    0]\n",
      " [2020   44    0 ...    1    0    0]\n",
      " [2020   44    0 ...    0    0    1]]\n",
      "[17]\n"
     ]
    }
   ],
   "source": [
    "\n",
    "x = df.iloc[:,0:-1].values\n",
    "y = df.iloc[:,65:66].values\n",
    "print(x)\n",
    "print(y[21])\n"
   ]
  },
  {
   "cell_type": "code",
   "execution_count": 5,
   "metadata": {},
   "outputs": [
    {
     "name": "stdout",
     "output_type": "stream",
     "text": [
      "(10170, 65)\n",
      "(2543, 1)\n"
     ]
    }
   ],
   "source": [
    "#x_train, x_test, y_train, y_test = model_selection.train_test_split(X, y, test_size=0.15,shuffle=False )\n",
    "\n",
    "split_horizontally_idx = int(x.shape[0]* 0.8)\n",
    "x_train = x[:split_horizontally_idx , :].astype(int)\n",
    "x_test = x[split_horizontally_idx: , :].astype(int)\n",
    "y_train = y[:split_horizontally_idx , :].astype(int)\n",
    "y_test = y[split_horizontally_idx: , :].astype(int)\n",
    "print(x_train.shape); print(y_test.shape)\n",
    "tf.debugging.set_log_device_placement(True)"
   ]
  },
  {
   "cell_type": "code",
   "execution_count": 4,
   "metadata": {},
   "outputs": [
    {
     "ename": "NameError",
     "evalue": "name 'keras' is not defined",
     "output_type": "error",
     "traceback": [
      "\u001b[1;31m---------------------------------------------------------------------------\u001b[0m",
      "\u001b[1;31mNameError\u001b[0m                                 Traceback (most recent call last)",
      "\u001b[1;32m<ipython-input-4-4404bb2df330>\u001b[0m in \u001b[0;36m<module>\u001b[1;34m\u001b[0m\n\u001b[0;32m      4\u001b[0m \u001b[1;32mfrom\u001b[0m \u001b[0mtensorflow\u001b[0m\u001b[1;33m.\u001b[0m\u001b[0mkeras\u001b[0m\u001b[1;33m.\u001b[0m\u001b[0mlayers\u001b[0m \u001b[1;32mimport\u001b[0m \u001b[0mDropout\u001b[0m\u001b[1;33m\u001b[0m\u001b[1;33m\u001b[0m\u001b[0m\n\u001b[0;32m      5\u001b[0m \u001b[1;32mfrom\u001b[0m \u001b[0mtensorflow\u001b[0m\u001b[1;33m.\u001b[0m\u001b[0mkeras\u001b[0m\u001b[1;33m.\u001b[0m\u001b[0mlayers\u001b[0m \u001b[1;32mimport\u001b[0m \u001b[0mLayer\u001b[0m\u001b[1;33m\u001b[0m\u001b[1;33m\u001b[0m\u001b[0m\n\u001b[1;32m----> 6\u001b[1;33m \u001b[0mmodel\u001b[0m \u001b[1;33m=\u001b[0m \u001b[0mkeras\u001b[0m\u001b[1;33m.\u001b[0m\u001b[0mmodels\u001b[0m\u001b[1;33m.\u001b[0m\u001b[0mSequential\u001b[0m\u001b[1;33m(\u001b[0m\u001b[1;33m)\u001b[0m\u001b[1;33m\u001b[0m\u001b[1;33m\u001b[0m\u001b[0m\n\u001b[0m\u001b[0;32m      7\u001b[0m \u001b[1;33m\u001b[0m\u001b[0m\n\u001b[0;32m      8\u001b[0m \u001b[1;33m\u001b[0m\u001b[0m\n",
      "\u001b[1;31mNameError\u001b[0m: name 'keras' is not defined"
     ]
    }
   ],
   "source": [
    "from tensorflow.keras.models import Sequential\n",
    "from tensorflow.keras.layers import Dense\n",
    "from tensorflow.keras.optimizers import Adam\n",
    "from tensorflow.keras.layers import Dropout\n",
    "from tensorflow.keras.layers import Layer\n",
    "model = keras.models.Sequential()\n",
    " \n",
    "    \n",
    "model.add(keras.layers.Dense(65, kernel_initializer='normal',  activation='relu', input_shape=(65,) ))\n",
    "model.add(Dense(65, kernel_initializer='normal',activation='relu'))\n",
    "model.add(Dense(65, kernel_initializer='normal',activation='relu'))\n",
    "model.add(Dense(65, kernel_initializer='normal',activation='relu'))\n",
    "model.add(Dense(65, kernel_initializer='normal',activation='relu'))\n",
    "model.add(Dense(1, kernel_initializer='normal',activation='Linear'))\n",
    "model.add(Dense(1))\n",
    "\n"
   ]
  },
  {
   "cell_type": "code",
   "execution_count": null,
   "metadata": {},
   "outputs": [],
   "source": [
    "\n",
    "model.compile(optimizer=tf.keras.optimizers.Adam(lr=0.0001), loss='mae', metrics=[tf.keras.metrics.MeanAbsolutePercentageError()])"
   ]
  },
  {
   "cell_type": "code",
   "execution_count": null,
   "metadata": {},
   "outputs": [],
   "source": [
    "with tf.device('/device:GPU:0'):\n",
    "    print(tf.device)\n",
    "    model.fit(x_train, y_train, epochs=200 ,batch_size=150, shuffle=True)"
   ]
  },
  {
   "cell_type": "code",
   "execution_count": 6,
   "metadata": {},
   "outputs": [
    {
     "name": "stdout",
     "output_type": "stream",
     "text": [
      "80/80 [==============================] - 1s 3ms/step - loss: 60.6883 - mean_absolute_percentage_error: 69.3737\n",
      "test loss, test acc: [60.68830490112305, 69.37372589111328]\n"
     ]
    }
   ],
   "source": [
    "# print(\"Evaluate on test data\")\n",
    "with tf.device('/device:CPU:0'):\n",
    "    results = model.evaluate(x_test, y_test )\n",
    "print(\"test loss, test acc:\", results)\n"
   ]
  },
  {
   "cell_type": "code",
   "execution_count": 7,
   "metadata": {},
   "outputs": [
    {
     "name": "stdout",
     "output_type": "stream",
     "text": [
      "[2015   39    0    0    0    0    0    0    0    0    0    0    0    0\n",
      "    0    0    0    0    0    0    0    0    0    0    0    0    0    0\n",
      "    0    0    0    0    0    0    0    0    0    0    0    0    0    0\n",
      "    0    0    0    0    0    0    0    1    0    0    0    0    0    0\n",
      "    0    0    0    0    0    0    0    0    0]\n",
      "[[17.253334]]\n",
      "[17]\n"
     ]
    }
   ],
   "source": [
    "test_data = x_train[21]\n",
    "print (test_data)\n",
    "with tf.device('/device:GPU:0'):\n",
    "    print(model.predict(test_data.reshape(1,65), batch_size=1))\n",
    "print(y_train[21])"
   ]
  },
  {
   "cell_type": "code",
   "execution_count": 8,
   "metadata": {},
   "outputs": [
    {
     "name": "stdout",
     "output_type": "stream",
     "text": [
      "Generate predictions for 3 samples\n",
      "[[2016   15    0 ...    0    0    0]\n",
      " [2016   15    0 ...    0    0    0]\n",
      " [2016   15    0 ...    0    0    0]\n",
      " ...\n",
      " [2016   15    0 ...    0    0    0]\n",
      " [2016   15    0 ...    0    0    0]\n",
      " [2016   15    0 ...    0    0    0]]\n",
      "predictions shape: [[346.3802   ]\n",
      " [ 37.41038  ]\n",
      " [ 48.77807  ]\n",
      " [ 99.87366  ]\n",
      " [141.4929   ]\n",
      " [ 49.63553  ]\n",
      " [  4.9374413]\n",
      " [107.26209  ]\n",
      " [  7.6674395]\n",
      " [170.03699  ]\n",
      " [267.34976  ]\n",
      " [186.57909  ]\n",
      " [ 29.937326 ]\n",
      " [ 85.44093  ]\n",
      " [148.83553  ]\n",
      " [ 65.73956  ]\n",
      " [ 32.02612  ]\n",
      " [314.0284   ]\n",
      " [ 11.623255 ]\n",
      " [156.33481  ]]\n",
      "[[296]\n",
      " [ 33]\n",
      " [ 47]\n",
      " [ 88]\n",
      " [156]\n",
      " [ 72]\n",
      " [  6]\n",
      " [125]\n",
      " [  8]\n",
      " [168]\n",
      " [280]\n",
      " [185]\n",
      " [ 25]\n",
      " [ 59]\n",
      " [159]\n",
      " [ 75]\n",
      " [ 38]\n",
      " [297]\n",
      " [  2]\n",
      " [158]]\n"
     ]
    }
   ],
   "source": [
    "print(\"Generate predictions for 3 samples\")\n",
    "print(x_train[1000:1020])\n",
    "with tf.device('/device:GPU:0'):\n",
    "    predictions = model.predict(x_train[1000:1020])\n",
    "print(\"predictions shape:\",( predictions))\n",
    "print(y_train[1000:1020])"
   ]
  },
  {
   "cell_type": "code",
   "execution_count": 9,
   "metadata": {},
   "outputs": [
    {
     "name": "stdout",
     "output_type": "stream",
     "text": [
      "Generate predictions for 3 samples\n",
      "[[2019   47    0 ...    0    0    0]\n",
      " [2019   47    0 ...    0    0    0]\n",
      " [2019   47    0 ...    0    0    0]\n",
      " ...\n",
      " [2020   44    0 ...    0    0    0]\n",
      " [2020   44    0 ...    1    0    0]\n",
      " [2020   44    0 ...    0    0    1]]\n",
      "predictions shape: [[144.01079]\n",
      " [288.90933]\n",
      " [117.86981]\n",
      " ...\n",
      " [196.77861]\n",
      " [172.49219]\n",
      " [ 75.66333]]\n",
      "[[148]\n",
      " [165]\n",
      " [149]\n",
      " ...\n",
      " [131]\n",
      " [ 93]\n",
      " [ 28]]\n"
     ]
    }
   ],
   "source": [
    "print(\"Generate predictions for 3 samples\")\n",
    "print(x_test)\n",
    "with tf.device('/device:CPU:0'):\n",
    "    predictions = model.predict(x_test)\n",
    "print(\"predictions shape:\",( predictions))\n",
    "print(y_test)"
   ]
  },
  {
   "cell_type": "code",
   "execution_count": 58,
   "metadata": {},
   "outputs": [
    {
     "name": "stdout",
     "output_type": "stream",
     "text": [
      "INFO:tensorflow:Assets written to: kimodel\\assets\n"
     ]
    }
   ],
   "source": [
    "#save model\n",
    "model.save('kimodel')"
   ]
  },
  {
   "cell_type": "code",
   "execution_count": 10,
   "metadata": {},
   "outputs": [],
   "source": [
    "x = np.arange(y_test.shape[0]).reshape( y_test.shape[0])\n",
    "y = y_test.reshape(  y_test.shape[0])\n",
    "y2 =  predictions.reshape(  y_test.shape[0])"
   ]
  },
  {
   "cell_type": "code",
   "execution_count": 11,
   "metadata": {},
   "outputs": [
    {
     "data": {
      "text/html": [
       "<div>\n",
       "<style scoped>\n",
       "    .dataframe tbody tr th:only-of-type {\n",
       "        vertical-align: middle;\n",
       "    }\n",
       "\n",
       "    .dataframe tbody tr th {\n",
       "        vertical-align: top;\n",
       "    }\n",
       "\n",
       "    .dataframe thead th {\n",
       "        text-align: right;\n",
       "    }\n",
       "</style>\n",
       "<table border=\"1\" class=\"dataframe\">\n",
       "  <thead>\n",
       "    <tr style=\"text-align: right;\">\n",
       "      <th></th>\n",
       "      <th>index</th>\n",
       "      <th>y</th>\n",
       "      <th>y2</th>\n",
       "    </tr>\n",
       "  </thead>\n",
       "  <tbody>\n",
       "    <tr>\n",
       "      <th>0</th>\n",
       "      <td>1801</td>\n",
       "      <td>1</td>\n",
       "      <td>1.754138</td>\n",
       "    </tr>\n",
       "    <tr>\n",
       "      <th>1</th>\n",
       "      <td>563</td>\n",
       "      <td>2</td>\n",
       "      <td>9.384659</td>\n",
       "    </tr>\n",
       "    <tr>\n",
       "      <th>2</th>\n",
       "      <td>1022</td>\n",
       "      <td>4</td>\n",
       "      <td>23.129421</td>\n",
       "    </tr>\n",
       "    <tr>\n",
       "      <th>3</th>\n",
       "      <td>971</td>\n",
       "      <td>4</td>\n",
       "      <td>20.763865</td>\n",
       "    </tr>\n",
       "    <tr>\n",
       "      <th>4</th>\n",
       "      <td>1041</td>\n",
       "      <td>4</td>\n",
       "      <td>37.958729</td>\n",
       "    </tr>\n",
       "  </tbody>\n",
       "</table>\n",
       "</div>"
      ],
      "text/plain": [
       "   index  y         y2\n",
       "0   1801  1   1.754138\n",
       "1    563  2   9.384659\n",
       "2   1022  4  23.129421\n",
       "3    971  4  20.763865\n",
       "4   1041  4  37.958729"
      ]
     },
     "execution_count": 11,
     "metadata": {},
     "output_type": "execute_result"
    }
   ],
   "source": [
    "test = pd.DataFrame({ 'y':y ,'y2':y2})\n",
    "test = test.sort_values(by=['y'])\n",
    "test.reset_index(inplace = True) \n",
    "test.head()"
   ]
  },
  {
   "cell_type": "code",
   "execution_count": 13,
   "metadata": {},
   "outputs": [
    {
     "data": {
      "text/plain": [
       "[<matplotlib.lines.Line2D at 0x26bb6677ca0>,\n",
       " <matplotlib.lines.Line2D at 0x26bb6677c70>]"
      ]
     },
     "execution_count": 13,
     "metadata": {},
     "output_type": "execute_result"
    },
    {
     "data": {
      "image/png": "[encoded data removed]",
      "text/plain": [
       "<Figure size 432x288 with 1 Axes>"
      ]
     },
     "metadata": {
      "needs_background": "light"
     },
     "output_type": "display_data"
    }
   ],
   "source": [
    "plt.plot(x,test['y2'] ,x,test['y'] )"
   ]
  },
  {
   "cell_type": "code",
   "execution_count": null,
   "metadata": {},
   "outputs": [],
   "source": []
  }
 ],
 "metadata": {
  "kernelspec": {
   "display_name": "Python 3",
   "language": "python",
   "name": "python3"
  },
  "language_info": {
   "codemirror_mode": {
    "name": "ipython",
    "version": 3
   },
   "file_extension": ".py",
   "mimetype": "text/x-python",
   "name": "python",
   "nbconvert_exporter": "python",
   "pygments_lexer": "ipython3",
   "version": "3.8.5"
  }
 },
 "nbformat": 4,
 "nbformat_minor": 4
}
